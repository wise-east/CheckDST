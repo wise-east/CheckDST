{
 "cells": [
  {
   "cell_type": "markdown",
   "metadata": {},
   "source": [
    "# Intra model comparison\n"
   ]
  },
  {
   "cell_type": "markdown",
   "metadata": {},
   "source": [
    "1. get examples that the model gets wrong at latest epoch vs those that the model gets correct in the first epoch (or the checkpoint with the best cJGA for that metric) \n",
    "1. calculate frequencies of these examples across different seed values. \n",
    "\n",
    "- one function that finds the final checkpoint \n",
    "- one function that finds the checkpoint with the best cJGA on a perturbation \n",
    "- one function that takes the two files from the previous steps and finds examples (also useful for inter model comparison)"
   ]
  },
  {
   "cell_type": "code",
   "execution_count": 36,
   "metadata": {},
   "outputs": [],
   "source": [
    "%load_ext autoreload\n",
    "%autoreload 2"
   ]
  },
  {
   "cell_type": "code",
   "execution_count": 48,
   "metadata": {},
   "outputs": [],
   "source": [
    "import os \n",
    "from pathlib import Path \n",
    "import json \n",
    "from qualitative_analysis_utils import * "
   ]
  },
  {
   "cell_type": "code",
   "execution_count": 38,
   "metadata": {},
   "outputs": [],
   "source": [
    "aug = \"NEI\"\n",
    "model_dir = \"/data/home/justincho/ParlAI/models/bart_scratch_multiwoz2.3/fs_False_prompts_True_lr5e-05_bs4_uf1_sd0/\""
   ]
  },
  {
   "cell_type": "code",
   "execution_count": 40,
   "metadata": {},
   "outputs": [],
   "source": [
    "logs = list(Path(model_dir).glob(f\"*{aug}_world_logs*.jsonl\"))\n",
    "test_reports = list(Path(model_dir).glob(f\"*{aug}_report*.json\"))\n",
    "len(logs), len(test_reports)\n",
    "\n",
    "logs = sort_by_steps(logs)\n",
    "test_reports = sort_by_steps(test_reports)\n",
    "# logs, test_reports"
   ]
  },
  {
   "cell_type": "code",
   "execution_count": 44,
   "metadata": {},
   "outputs": [],
   "source": [
    "final_log = logs[-1]"
   ]
  },
  {
   "cell_type": "code",
   "execution_count": 45,
   "metadata": {},
   "outputs": [],
   "source": [
    "max_cjga_log, max_cjga = find_checkpoint_with_best_cjga(logs, test_reports)\n",
    "assert max_cjga_log != final_log"
   ]
  },
  {
   "cell_type": "code",
   "execution_count": 50,
   "metadata": {},
   "outputs": [],
   "source": [
    "compare_two_logs(final_log, max_cjga_log)"
   ]
  },
  {
   "cell_type": "code",
   "execution_count": 52,
   "metadata": {},
   "outputs": [],
   "source": [
    "with open(str(final_log), \"r\") as f: \n",
    "    data = f.readlines() \n",
    "    json_data = [json.loads(l) for l in data]"
   ]
  },
  {
   "cell_type": "code",
   "execution_count": 53,
   "metadata": {},
   "outputs": [
    {
     "data": {
      "text/plain": [
       "['restaurant food italian',\n",
       " ' restaurant pricerange cheap',\n",
       " ' restaurant name ask restaurant',\n",
       " ' restaurant area centre',\n",
       " ' hotel people 6',\n",
       " ' hotel day sunday',\n",
       " ' hotel stay 4',\n",
       " ' hotel area dontcare',\n",
       " ' hotel parking yes',\n",
       " ' hotel pricerange cheap',\n",
       " ' hotel internet yes',\n",
       " ' hotel type guesthouse',\n",
       " '']"
      ]
     },
     "execution_count": 53,
     "metadata": {},
     "output_type": "execute_result"
    }
   ],
   "source": [
    "json_data[0]['dialog'][0][1]['text'].split(\",\")"
   ]
  },
  {
   "cell_type": "code",
   "execution_count": 57,
   "metadata": {},
   "outputs": [
    {
     "name": "stderr",
     "output_type": "stream",
     "text": [
      "100%|██████████| 5827/5827 [00:00<00:00, 78056.05it/s]\n"
     ]
    }
   ],
   "source": [
    "def get_dial_id_from_log_line(log_line): \n",
    "    curr = log_line['dialog'][0][0]\n",
    "    \n",
    "    dial_id = f\"{curr['dial_id']}-{curr['turn_num']}\"\n",
    "\n",
    "    return dial_id \n",
    "\n",
    "def get_dialogue_state(): \n",
    "\n",
    "    return \n",
    "\n",
    "def get_dict_diff(): \n",
    "\n",
    "    return \n",
    "\n",
    "df_list = [] \n",
    "from tqdm import tqdm\n",
    "\n",
    "for idx in tqdm(range(0, len(json_data), 2)):\n",
    "    original = json_data[idx]\n",
    "    perturbed = json_data[idx+1]\n",
    "\n",
    "    orig_label = original['dialog'][0][0]\n",
    "    orig_pred = original['dialog'][0][1]\n",
    "    aug_label = perturbed['dialog'][0][0]\n",
    "    aug_pred = perturbed['dialog'][0][1]\n",
    "\n",
    "    original_dial_id = get_dial_id_from_log_line(original)\n",
    "    perturbed_dial_id = get_dial_id_from_log_line(perturbed)\n",
    "    assert original_dial_id == perturbed_dial_id\n",
    "\n",
    "    orig_text = orig_label['text']\n",
    "    aug_text = aug_label['text']\n",
    "\n",
    "    orig_metrics = orig_pred['metrics']\n",
    "    aug_metrics = aug_pred['metrics']\n",
    "\n",
    "    orig_gt_dst = orig_label['eval_labels']\n",
    "    orig_pred_dst = orig_pred['text']\n",
    "\n",
    "    aug_gt_dst = aug_label['eval_labels']\n",
    "    aug_pred_dst = aug_pred['text']\n",
    "\n",
    "    jga_original = orig_metrics['jga_original']\n",
    "    jga_perturbed = aug_metrics['jga_perturbed']\n",
    "    jga_conditional = aug_metrics['jga_conditional']\n",
    "\n",
    "    print(aug_gt_dst)\n",
    "    print(aug_pred_dst)\n",
    "    print(orig_gt_dst)\n",
    "    print(orig_pred_dst)\n",
    "\n",
    "    df_list.append(\n",
    "        {\n",
    "            \"dialid\": original_dial_id, \n",
    "            \"orig_text\": orig_text, \n",
    "            \"perturbed_text\": aug_text, \n",
    "            \"orig_label\": orig_gt_dst, \n",
    "            \"perturbed_label\": aug_gt_dst, \n",
    "            \"orig_pred\": orig_pred_dst, \n",
    "            \"perturbed_pred\": aug_pred_dst, \n",
    "            \"jga_orig\": jga_original, \n",
    "            \"jga_perturbed\": jga_perturbed, \n",
    "            \"jga_conditional\": jga_conditional \n",
    "        }\n",
    "    )\n",
    "\n",
    "\n",
    "    # break \n"
   ]
  },
  {
   "cell_type": "code",
   "execution_count": 65,
   "metadata": {},
   "outputs": [
    {
     "ename": "KeyError",
     "evalue": "'jga_conditional'",
     "output_type": "error",
     "traceback": [
      "\u001b[0;31m---------------------------------------------------------------------------\u001b[0m",
      "\u001b[0;31mKeyError\u001b[0m                                  Traceback (most recent call last)",
      "\u001b[0;32m/tmp/ipykernel_50661/3143627346.py\u001b[0m in \u001b[0;36m<module>\u001b[0;34m\u001b[0m\n\u001b[0;32m----> 1\u001b[0;31m \u001b[0mjson_data\u001b[0m\u001b[0;34m[\u001b[0m\u001b[0;36m0\u001b[0m\u001b[0;34m]\u001b[0m\u001b[0;34m[\u001b[0m\u001b[0;34m'dialog'\u001b[0m\u001b[0;34m]\u001b[0m\u001b[0;34m[\u001b[0m\u001b[0;36m0\u001b[0m\u001b[0;34m]\u001b[0m\u001b[0;34m[\u001b[0m\u001b[0;36m1\u001b[0m\u001b[0;34m]\u001b[0m\u001b[0;34m[\u001b[0m\u001b[0;34m'metrics'\u001b[0m\u001b[0;34m]\u001b[0m\u001b[0;34m[\u001b[0m\u001b[0;34m'jga_conditional'\u001b[0m\u001b[0;34m]\u001b[0m\u001b[0;34m\u001b[0m\u001b[0;34m\u001b[0m\u001b[0m\n\u001b[0m",
      "\u001b[0;31mKeyError\u001b[0m: 'jga_conditional'"
     ]
    }
   ],
   "source": [
    "json_data[0]['dialog'][0][1]['metrics']['jga_conditional']"
   ]
  },
  {
   "cell_type": "code",
   "execution_count": null,
   "metadata": {},
   "outputs": [],
   "source": [
    "# format all jsonl files to have the following values per row\n",
    "columns = [\"dialid\", \"orig_text\", \"perturbed_text\", \"orig_label\", \"perturbed_label\", \"orig_pred\", \"perturbed_pred\", \"jga_orig\", \"jga_perturbed\", \"jga_conditional\"] \n",
    "# then for two different checkpoints, find the cases where earlier checkpoint got it correct consistently, but didn't in the later checkpoint \n",
    "\n",
    "# run code to find patterns and print statistics for these patterns "
   ]
  },
  {
   "cell_type": "code",
   "execution_count": null,
   "metadata": {},
   "outputs": [],
   "source": [
    "# eval"
   ]
  }
 ],
 "metadata": {
  "interpreter": {
   "hash": "e3fa9dae02c258e8d235597309e628f6c35e83db78342a79bc4d034eb018fe52"
  },
  "kernelspec": {
   "display_name": "Python 3.7.11 ('parlai_internal')",
   "language": "python",
   "name": "python3"
  },
  "language_info": {
   "codemirror_mode": {
    "name": "ipython",
    "version": 3
   },
   "file_extension": ".py",
   "mimetype": "text/x-python",
   "name": "python",
   "nbconvert_exporter": "python",
   "pygments_lexer": "ipython3",
   "version": "3.7.11"
  },
  "orig_nbformat": 4
 },
 "nbformat": 4,
 "nbformat_minor": 2
}
