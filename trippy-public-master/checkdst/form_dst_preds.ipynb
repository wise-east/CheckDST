{
 "cells": [
  {
   "cell_type": "markdown",
   "metadata": {},
   "source": [
    "### Goals: \n",
    "1. Verify that the JGA using Trippy's script is correct. \n",
    "1. Calculate hallucination and coreference JGA \n",
    "    - Hallucination: need to get untokenized inputs and see if any slot values are not from the conversational context. (I think it should be zero, given TripPy's implementation)\n",
    "    - get list of dialogue ids that need coreference resolution from MultiWOZ2.3 \n",
    "\n",
    "### Conclusion: \n",
    "1. JGA from Trippy's script is correct. \n",
    "\n",
    "### Deliverables achieved: \n",
    "- Cleaned up code in here for getting coref JGA and no hallucation frequency \n",
    "    - get_coref_jga.py\n",
    "    - get_no_hallucination_frequency.py\n",
    "- running metric_bert_dst generates a CSV file of the predictions in the format we want. Use this file to calculate cJGA"
   ]
  },
  {
   "cell_type": "code",
   "execution_count": 65,
   "metadata": {},
   "outputs": [
    {
     "name": "stdout",
     "output_type": "stream",
     "text": [
      "The autoreload extension is already loaded. To reload it, use:\n",
      "  %reload_ext autoreload\n"
     ]
    }
   ],
   "source": [
    "%load_ext autoreload\n",
    "%autoreload 2"
   ]
  },
  {
   "cell_type": "code",
   "execution_count": 66,
   "metadata": {},
   "outputs": [],
   "source": [
    "import json\n",
    "from metric_bert_dst import load_dataset_config, tokenize, check_slot_inform"
   ]
  },
  {
   "cell_type": "code",
   "execution_count": null,
   "metadata": {},
   "outputs": [],
   "source": [
    "prediction_fn= \"results/multiwoz23_lr1e-4_gpu2/pred_res.test.4736.json\""
   ]
  },
  {
   "cell_type": "code",
   "execution_count": 67,
   "metadata": {},
   "outputs": [],
   "source": [
    "with open(prediction_fn, \"r\") as f: \n",
    "    data = json.load(f)\n",
    "\n",
    "dataset_config = \"dataset_config/multiwoz21.json\"\n",
    "class_types, slots, label_maps = load_dataset_config(dataset_config)\n",
    "\n",
    "label_maps_tmp = {}\n",
    "for v in label_maps:\n",
    "    label_maps_tmp[tokenize(v)] = [tokenize(nv) for nv in label_maps[v]]\n",
    "label_maps = label_maps_tmp\n"
   ]
  },
  {
   "cell_type": "code",
   "execution_count": 68,
   "metadata": {},
   "outputs": [],
   "source": [
    "turnwise_jga = [] "
   ]
  },
  {
   "cell_type": "code",
   "execution_count": 69,
   "metadata": {},
   "outputs": [
    {
     "data": {
      "text/plain": [
       "7372"
      ]
     },
     "execution_count": 69,
     "metadata": {},
     "output_type": "execute_result"
    }
   ],
   "source": [
    "len(data)"
   ]
  },
  {
   "cell_type": "code",
   "execution_count": 162,
   "metadata": {},
   "outputs": [],
   "source": [
    "def get_slot_vals(slot, pred, joint_pd_slot, swap_with_map=True): \n",
    "    guid = pred['guid']  # List: set_type, dialogue_idx, turn_idx\n",
    "\n",
    "    key_class_label_id = 'class_label_id_%s'%slot\n",
    "    key_class_prediction = 'class_prediction_%s'%slot\n",
    "    key_start_pos = 'start_pos_%s'%slot\n",
    "    key_start_prediction = 'start_prediction_%s'%slot\n",
    "    key_end_pos = 'end_pos_%s'%slot\n",
    "    key_end_prediction = 'end_prediction_%s'%slot\n",
    "    key_refer_id = 'refer_id_%s'%slot\n",
    "    key_refer_prediction = 'refer_prediction_%s'%slot\n",
    "    key_slot_groundtruth = 'slot_groundtruth_%s'%slot\n",
    "    key_slot_prediction = 'slot_prediction_%s'%slot\n",
    "\n",
    "    turn_gt_class = pred[key_class_label_id]\n",
    "    turn_pd_class = pred[key_class_prediction]\n",
    "    gt_start_pos = pred[key_start_pos]\n",
    "    pd_start_pos = pred[key_start_prediction]\n",
    "    gt_end_pos = pred[key_end_pos]\n",
    "    pd_end_pos = pred[key_end_prediction]\n",
    "    gt_refer = pred[key_refer_id]\n",
    "    pd_refer = pred[key_refer_prediction]\n",
    "    gt_slot = pred[key_slot_groundtruth]\n",
    "    pd_slot = pred[key_slot_prediction]\n",
    "\n",
    "    if swap_with_map: \n",
    "        gt_slot = tokenize(gt_slot)\n",
    "        pd_slot = tokenize(pd_slot)\n",
    "\n",
    "    # Make sure the true turn labels are contained in the prediction json file!\n",
    "    joint_gt_slot = gt_slot\n",
    "\n",
    "    if guid[-1] == '0': # First turn, reset the slots\n",
    "        joint_pd_slot = 'none'\n",
    "\n",
    "    # If turn_pd_class or a value to be copied is \"none\", do not update the dialog state.\n",
    "    if turn_pd_class == class_types.index('none'):\n",
    "        pass\n",
    "    elif turn_pd_class == class_types.index('dontcare'):\n",
    "        joint_pd_slot = 'dontcare'\n",
    "    elif turn_pd_class == class_types.index('copy_value'):\n",
    "        joint_pd_slot = pd_slot\n",
    "    elif 'true' in class_types and turn_pd_class == class_types.index('true'):\n",
    "        joint_pd_slot = 'true'\n",
    "    elif 'false' in class_types and turn_pd_class == class_types.index('false'):\n",
    "        joint_pd_slot = 'false'\n",
    "    elif 'refer' in class_types and turn_pd_class == class_types.index('refer'):\n",
    "        if pd_slot[0:3] == \"§§ \":\n",
    "            if pd_slot[3:] != 'none':\n",
    "                joint_pd_slot = check_slot_inform(joint_gt_slot, pd_slot[3:], label_maps, swap_with_map)\n",
    "        elif pd_slot[0:2] == \"§§\":\n",
    "            if pd_slot[2:] != 'none':\n",
    "                joint_pd_slot = check_slot_inform(joint_gt_slot, pd_slot[2:], label_maps, swap_with_map)\n",
    "        elif pd_slot != 'none':\n",
    "            joint_pd_slot = pd_slot\n",
    "    elif 'inform' in class_types and turn_pd_class == class_types.index('inform'):\n",
    "        if pd_slot[0:3] == \"§§ \":\n",
    "            if pd_slot[3:] != 'none':\n",
    "                joint_pd_slot = check_slot_inform(joint_gt_slot, pd_slot[3:], label_maps, swap_with_map)\n",
    "        elif pd_slot[0:2] == \"§§\":\n",
    "            if pd_slot[2:] != 'none':\n",
    "                joint_pd_slot = check_slot_inform(joint_gt_slot, pd_slot[2:], label_maps, swap_with_map)\n",
    "        else:\n",
    "            print(\"ERROR: Unexpected slot value format. Aborting.\")\n",
    "            exit()\n",
    "    else:\n",
    "        print(\"ERROR: Unexpected class_type. Aborting.\")\n",
    "        exit()\n",
    "\n",
    "\n",
    "    # Check the joint slot correctness.\n",
    "    # If the value label is not none, then we need to have a value prediction.\n",
    "    # Even if the class_type is 'none', there can still be a value label,\n",
    "    # it might just not be pointable in the current turn. It might however\n",
    "    # be referrable and thus predicted correctly.\n",
    "    if joint_gt_slot != 'none' and joint_gt_slot != 'dontcare' and joint_gt_slot != 'true' and joint_gt_slot != 'false' and joint_gt_slot in label_maps:\n",
    "        for variant in label_maps[joint_gt_slot]:\n",
    "            if variant == joint_pd_slot and swap_with_map:\n",
    "                joint_pd_slot = joint_gt_slot \n",
    "\n",
    "    return joint_gt_slot, joint_pd_slot "
   ]
  },
  {
   "cell_type": "code",
   "execution_count": 93,
   "metadata": {},
   "outputs": [
    {
     "name": "stdout",
     "output_type": "stream",
     "text": [
      "0.6121812262615302\n"
     ]
    }
   ],
   "source": [
    "# Get JGA line by line \n",
    "correct_ct = 0 \n",
    "pred_dst = {}\n",
    "gt_dst = {} \n",
    "\n",
    "pred_dst_set = set() \n",
    "gt_dst_set= set() \n",
    "dict_results = [] \n",
    "for pred in data: \n",
    "   # print(sorted(pred.keys()))\n",
    "   # break\n",
    "   guid = pred['guid']\n",
    "   # reset dsts for new conversation \n",
    "   if guid[-1] == '0': \n",
    "      pred_dst = {} \n",
    "      gt_dst ={} \n",
    "      pred_dst_set = set() \n",
    "      gt_dst_set= set() \n",
    "\n",
    "   # guid: ['test/valid/train', 'dialog id', turn_idx]\n",
    "   dialog_id, turn_idx = guid[1], guid[2]\n",
    "   dict_result = {\n",
    "      \"id\": f\"{dialog_id.lower()}-{turn_idx}\"\n",
    "   } \n",
    "\n",
    "   for slot in slots: \n",
    "      joint_pd_slot = pred_dst.get(slot, None)\n",
    "\n",
    "      joint_gt_slot, joint_pd_slot = get_slot_vals(slot, pred, joint_pd_slot)\n",
    "      pred_dst[slot] = joint_pd_slot \n",
    "      gt_dst[slot] = joint_gt_slot  \n",
    "\n",
    "      dict_result[f\"{slot}_gold\"]= joint_gt_slot\n",
    "      dict_result[f\"{slot}_pred\"] = joint_pd_slot \n",
    "\n",
    "   dict_results.append(dict_result)\n",
    "\n",
    "   # just need to compare these dictionaries, no need for fancy string formation \n",
    "   if pred_dst == gt_dst: \n",
    "      correct_ct += 1 \n",
    "   elif dict_result['id'] in correct_list: \n",
    "      print(sorted(list(pred_dst_set)))\n",
    "      print(sorted(list(gt_dst_set)))\n",
    "      print(pred_dst_set - gt_dst_set)\n",
    "      print(gt_dst_set - pred_dst_set)\n",
    "      break \n",
    "\n",
    "#    break\n",
    "\n",
    "print(correct_ct / len(data))"
   ]
  },
  {
   "cell_type": "code",
   "execution_count": 72,
   "metadata": {},
   "outputs": [],
   "source": [
    "import pandas as pd"
   ]
  },
  {
   "cell_type": "code",
   "execution_count": 73,
   "metadata": {},
   "outputs": [],
   "source": [
    "# (row: ids: each slot pred, gold, )\n",
    "mine_df = pd.DataFrame(dict_results)"
   ]
  },
  {
   "cell_type": "code",
   "execution_count": 74,
   "metadata": {},
   "outputs": [],
   "source": [
    "# get original TripPy's predictions as similar dataframe object \n",
    "# generated from runnign `python metric_bert_dst.py multiwoz21 dataset_config/multiwoz21.json results/multiwoz23_lr1e-4_gpu2/pred_res.test.4736.json`\n",
    "\n",
    "trippy_df = pd.read_csv(\"/data/home/justincho/trippy-public-master/results/multiwoz23_lr1e-4_gpu2/pred_res.test.4736.csv\")"
   ]
  },
  {
   "cell_type": "code",
   "execution_count": 75,
   "metadata": {},
   "outputs": [],
   "source": [
    "compare = mine_df == trippy_df"
   ]
  },
  {
   "cell_type": "code",
   "execution_count": 76,
   "metadata": {},
   "outputs": [],
   "source": [
    "import math "
   ]
  },
  {
   "cell_type": "code",
   "execution_count": 77,
   "metadata": {},
   "outputs": [
    {
     "data": {
      "text/plain": [
       "'nan'"
      ]
     },
     "execution_count": 77,
     "metadata": {},
     "output_type": "execute_result"
    }
   ],
   "source": [
    "str(float(\"nan\"))"
   ]
  },
  {
   "cell_type": "code",
   "execution_count": 86,
   "metadata": {},
   "outputs": [
    {
     "data": {
      "text/plain": [
       "47"
      ]
     },
     "execution_count": 86,
     "metadata": {},
     "output_type": "execute_result"
    }
   ],
   "source": [
    "count = 0 \n",
    "for idx, row in compare.iterrows(): \n",
    "    # print(idx, row )\n",
    "    x = row.to_dict() \n",
    "    found= False \n",
    "    for k,v in x.items():  \n",
    "        if not v: \n",
    "            # found = True \n",
    "            if mine_df.iloc[idx][k].strip() == \"\" and isinstance(trippy_df.iloc[idx][k], float) and math.isnan(trippy_df.iloc[idx][k]):  \n",
    "                count += 1 \n",
    "                continue \n",
    "            print(f\"{k}, mine: {mine_df.iloc[idx][k]},  trippy: {trippy_df.iloc[idx][k]}\")\n",
    "        # if found: \n",
    "            # break \n",
    "    # if found: \n",
    "        # break \n",
    "count "
   ]
  },
  {
   "cell_type": "code",
   "execution_count": 87,
   "metadata": {},
   "outputs": [
    {
     "data": {
      "text/html": [
       "<div>\n",
       "<style scoped>\n",
       "    .dataframe tbody tr th:only-of-type {\n",
       "        vertical-align: middle;\n",
       "    }\n",
       "\n",
       "    .dataframe tbody tr th {\n",
       "        vertical-align: top;\n",
       "    }\n",
       "\n",
       "    .dataframe thead th {\n",
       "        text-align: right;\n",
       "    }\n",
       "</style>\n",
       "<table border=\"1\" class=\"dataframe\">\n",
       "  <thead>\n",
       "    <tr style=\"text-align: right;\">\n",
       "      <th></th>\n",
       "      <th>id</th>\n",
       "      <th>taxi-leaveAt_gold</th>\n",
       "      <th>taxi-leaveAt_pred</th>\n",
       "      <th>taxi-destination_gold</th>\n",
       "      <th>taxi-destination_pred</th>\n",
       "      <th>taxi-departure_gold</th>\n",
       "      <th>taxi-departure_pred</th>\n",
       "      <th>taxi-arriveBy_gold</th>\n",
       "      <th>taxi-arriveBy_pred</th>\n",
       "      <th>restaurant-book_people_gold</th>\n",
       "      <th>...</th>\n",
       "      <th>train-leaveAt_gold</th>\n",
       "      <th>train-leaveAt_pred</th>\n",
       "      <th>train-destination_gold</th>\n",
       "      <th>train-destination_pred</th>\n",
       "      <th>train-day_gold</th>\n",
       "      <th>train-day_pred</th>\n",
       "      <th>train-arriveBy_gold</th>\n",
       "      <th>train-arriveBy_pred</th>\n",
       "      <th>train-departure_gold</th>\n",
       "      <th>train-departure_pred</th>\n",
       "    </tr>\n",
       "  </thead>\n",
       "  <tbody>\n",
       "    <tr>\n",
       "      <th>0</th>\n",
       "      <td>mul0003.json-0</td>\n",
       "      <td>none</td>\n",
       "      <td>none</td>\n",
       "      <td>none</td>\n",
       "      <td>none</td>\n",
       "      <td>none</td>\n",
       "      <td>none</td>\n",
       "      <td>none</td>\n",
       "      <td>none</td>\n",
       "      <td>none</td>\n",
       "      <td>...</td>\n",
       "      <td>none</td>\n",
       "      <td>none</td>\n",
       "      <td>none</td>\n",
       "      <td>none</td>\n",
       "      <td>none</td>\n",
       "      <td>none</td>\n",
       "      <td>none</td>\n",
       "      <td>none</td>\n",
       "      <td>none</td>\n",
       "      <td>none</td>\n",
       "    </tr>\n",
       "  </tbody>\n",
       "</table>\n",
       "<p>1 rows × 61 columns</p>\n",
       "</div>"
      ],
      "text/plain": [
       "               id taxi-leaveAt_gold taxi-leaveAt_pred taxi-destination_gold  \\\n",
       "0  mul0003.json-0              none              none                  none   \n",
       "\n",
       "  taxi-destination_pred taxi-departure_gold taxi-departure_pred  \\\n",
       "0                  none                none                none   \n",
       "\n",
       "  taxi-arriveBy_gold taxi-arriveBy_pred restaurant-book_people_gold  ...  \\\n",
       "0               none               none                        none  ...   \n",
       "\n",
       "  train-leaveAt_gold train-leaveAt_pred train-destination_gold  \\\n",
       "0               none               none                   none   \n",
       "\n",
       "  train-destination_pred train-day_gold train-day_pred train-arriveBy_gold  \\\n",
       "0                   none           none           none                none   \n",
       "\n",
       "  train-arriveBy_pred train-departure_gold train-departure_pred  \n",
       "0                none                 none                 none  \n",
       "\n",
       "[1 rows x 61 columns]"
      ]
     },
     "execution_count": 87,
     "metadata": {},
     "output_type": "execute_result"
    }
   ],
   "source": [
    "trippy_df.head(1)"
   ]
  },
  {
   "cell_type": "code",
   "execution_count": 90,
   "metadata": {},
   "outputs": [
    {
     "data": {
      "text/plain": [
       "0.6121812262615302"
      ]
     },
     "execution_count": 90,
     "metadata": {},
     "output_type": "execute_result"
    }
   ],
   "source": [
    "# calculate jga on csv loaded from metric_bert_dst.py \n",
    "jgas =[] \n",
    "correct_list =[] \n",
    "for idx, row in mine_df.iterrows(): \n",
    "    jga = 1 \n",
    "    for slot in slots: \n",
    "        if row[f\"{slot}_gold\"] != row[f\"{slot}_pred\"]: \n",
    "            jga = 0 \n",
    "    if jga == 1: \n",
    "        correct_list.append(row['id'])\n",
    "    jgas.append(jga)\n",
    "\n",
    "import numpy as np \n",
    "np.mean(jgas)\n"
   ]
  },
  {
   "cell_type": "code",
   "execution_count": 79,
   "metadata": {},
   "outputs": [
    {
     "data": {
      "text/plain": [
       "['test', 'MUL0003.json', '0']"
      ]
     },
     "execution_count": 79,
     "metadata": {},
     "output_type": "execute_result"
    }
   ],
   "source": [
    "data[0]['guid']"
   ]
  },
  {
   "cell_type": "code",
   "execution_count": 80,
   "metadata": {},
   "outputs": [],
   "source": [
    "import pandas as pd"
   ]
  },
  {
   "cell_type": "code",
   "execution_count": 95,
   "metadata": {},
   "outputs": [],
   "source": [
    "# Get conversations that require coreference \n",
    "with open(\"data/MULTIWOZ2.3/data.json\", \"r\") as f: \n",
    "    multiwoz23 = json.load(f)"
   ]
  },
  {
   "cell_type": "code",
   "execution_count": 96,
   "metadata": {},
   "outputs": [],
   "source": [
    "from tqdm import tqdm "
   ]
  },
  {
   "cell_type": "code",
   "execution_count": 99,
   "metadata": {},
   "outputs": [
    {
     "name": "stderr",
     "output_type": "stream",
     "text": [
      "100%|██████████| 10438/10438 [00:00<00:00, 78060.21it/s]\n"
     ]
    }
   ],
   "source": [
    "need_corefs =[] \n",
    "for dial_id, dial in tqdm(multiwoz23.items()):\n",
    "    context = []\n",
    "\n",
    "    # if dial_id in [\"pmul4707.json\", \"pmul2245.json\", \"pmul4776.json\",\n",
    "    #                 \"pmul3872.json\", \"pmul4859.json\"]:\n",
    "\n",
    "    #     \"\"\"\n",
    "    #     note: these five dialogs do not contain any annotation\n",
    "    #     for user side, including span_info or dialog acts\n",
    "    #     \"\"\"\n",
    "    #     pdb.set_trace()\n",
    "    #     continue\n",
    "\n",
    "    need_coref = False\n",
    "    for turn_num in range(math.ceil(len(dial[\"log\"]) / 2)):\n",
    "        # # # turn number\n",
    "        turn = {\"turn_num\": turn_num, \"dial_id\": dial_id}\n",
    "\n",
    "        # # # user utterance\n",
    "        user_utt = dial[\"log\"][turn_num * 2][\"text\"]\n",
    "        sys_resp = dial[\"log\"][turn_num * 2 + 1][\"text\"]\n",
    "        # any turn that comes after requiring coreference resolution will also need coref resolution\n",
    "        need_coref = \"coreference\" in dial['log'][turn_num * 2] or need_coref\n",
    "        turn['need_coref'] = need_coref\n",
    "\n",
    "        if need_coref: \n",
    "            need_corefs.append(f\"{dial_id.lower()}-{turn_num}\")\n"
   ]
  },
  {
   "cell_type": "code",
   "execution_count": 101,
   "metadata": {},
   "outputs": [
    {
     "data": {
      "text/plain": [
       "7566"
      ]
     },
     "execution_count": 101,
     "metadata": {},
     "output_type": "execute_result"
    }
   ],
   "source": [
    "len(need_corefs)"
   ]
  },
  {
   "cell_type": "code",
   "execution_count": 102,
   "metadata": {},
   "outputs": [
    {
     "data": {
      "text/plain": [
       "0.3669985775248933"
      ]
     },
     "execution_count": 102,
     "metadata": {},
     "output_type": "execute_result"
    }
   ],
   "source": [
    "# calculate coreference jga on csv loaded from metric_bert_dst.py \n",
    "jgas =[] \n",
    "correct_list =[] \n",
    "for idx, row in mine_df.iterrows(): \n",
    "    if row['id'] not in need_corefs: \n",
    "        continue \n",
    "    jga = 1 \n",
    "    for slot in slots: \n",
    "        if row[f\"{slot}_gold\"] != row[f\"{slot}_pred\"]: \n",
    "            jga = 0 \n",
    "    if jga == 1: \n",
    "        correct_list.append(row['id'])\n",
    "    jgas.append(jga)\n",
    "\n",
    "np.mean(jgas)\n"
   ]
  },
  {
   "cell_type": "code",
   "execution_count": 115,
   "metadata": {},
   "outputs": [],
   "source": [
    "# calculate hallucination frequency \n",
    "# 1. get decoded conversational context \n",
    "# 2. named entity slots \n",
    "\n",
    "named_entity_slots = {\n",
    "    \"attraction--name\",\n",
    "    \"restaurant--name\",\n",
    "    \"hotel--name\",\n",
    "    \"taxi--departure\",\n",
    "    \"taxi--destination\",\n",
    "    \"train--departure\",\n",
    "    \"train--destination\",\n",
    "}"
   ]
  },
  {
   "cell_type": "code",
   "execution_count": 121,
   "metadata": {},
   "outputs": [],
   "source": [
    "mine_df.keys()\n",
    "named_entity_slots_for_trippy ={\n",
    "    \"attraction-name\",\n",
    "    \"restaurant-name\",\n",
    "    \"hotel-name\",\n",
    "    \"taxi-departure\",\n",
    "    \"taxi-destination\",\n",
    "    \"train-departure\",\n",
    "    \"train-destination\",\n",
    "}"
   ]
  },
  {
   "cell_type": "code",
   "execution_count": 118,
   "metadata": {},
   "outputs": [
    {
     "name": "stderr",
     "output_type": "stream",
     "text": [
      "100%|██████████| 10438/10438 [00:01<00:00, 8585.57it/s]\n"
     ]
    }
   ],
   "source": [
    "# get decoded conversational context\n",
    "data_version = \"2.3\"\n",
    "dials_form = {} \n",
    "for dial_id, dial in tqdm(multiwoz23.items()):\n",
    "    context = []\n",
    "    for turn_num in range(math.ceil(len(dial[\"log\"]) / 2)):\n",
    "        # # # turn number\n",
    "        turn = {\"turn_num\": turn_num, \"dial_id\": dial_id}\n",
    "\n",
    "        # # # user utterance\n",
    "        user_utt = dial[\"log\"][turn_num * 2][\"text\"]\n",
    "        sys_resp = dial[\"log\"][turn_num * 2 + 1][\"text\"]\n",
    "        # any turn that comes after requiring coreference resolution will also need coref resolution\n",
    "        need_coref = \"coreference\" in dial['log'][turn_num * 2] or need_coref\n",
    "        turn['need_coref'] = need_coref\n",
    "\n",
    "        # # # dialog states, extracted based on \"metadata\", only in system side (turn_num * 2 + 1)\n",
    "        slots_inf = []\n",
    "        for domain, slot in dial[\"log\"][turn_num * 2 + 1][\"metadata\"].items():\n",
    "            for slot_type, slot_val in slot[\"book\"].items():\n",
    "                if data_version == \"2.3\":\n",
    "                    slot_val = [] if slot_val == \"\" else [slot_val]\n",
    "                if (\n",
    "                    slot_val != []\n",
    "                    and slot_type != \"booked\"\n",
    "                    and slot_val[0] != \"not mentioned\"\n",
    "                ):\n",
    "                    slots_inf += [domain, slot_type, slot_val[0] + \",\"]\n",
    "\n",
    "            for slot_type, slot_val in slot[\"semi\"].items():\n",
    "                # 2.3 doesn't have a list of possible values. just a single value. wrap as a list\n",
    "                if data_version == \"2.3\":\n",
    "                    slot_val = [] if slot_val == \"\" else [slot_val]\n",
    "                if slot_val != [] and slot_val[0] != \"not mentioned\":\n",
    "                    slots_inf += [domain, slot_type, slot_val[0] + \",\"]\n",
    "\n",
    "        turn[\"slots_inf\"] = \" \".join(slots_inf)\n",
    "        # turn[\"slots_err\"] = self.create_err(slots_inf[:])\n",
    "        # turn[\"slots_err\"] = \"\"\n",
    "        # # adding current turn to dialog history\n",
    "        context.append(\"<user> \" + user_utt)\n",
    "        # # # dialog history\n",
    "        turn[\"context\"] = \" \".join(context)\n",
    "        # adding system response to next turn\n",
    "        context.append(\"<system> \" + sys_resp)\n",
    "        dials_form[dial_id.lower() + \"-\" + str(turn_num)] = turn"
   ]
  },
  {
   "cell_type": "code",
   "execution_count": 119,
   "metadata": {},
   "outputs": [],
   "source": [
    "# make sure that all conversatiosn in mine_df are findable in reformatted multiwoz2.3 \n",
    "for k in mine_df['id'].tolist(): \n",
    "    if k not in dials_form: \n",
    "        print(f\"{k} not found.\")"
   ]
  },
  {
   "cell_type": "code",
   "execution_count": 138,
   "metadata": {},
   "outputs": [
    {
     "name": "stdout",
     "output_type": "stream",
     "text": [
      "frankie and benny ' s\n",
      "<user> hi , what options are available in the south of cambridge for upscale dining ? <system> is there a particular cuisine you are looking for ? <user> i'm not picky , just let me know a few types of cuisine that are in the area please . <system> peking restaurant as well as the good luck food takeaway serve chinese food . taj tandoori serves indian , and frankie and benny's serves italian . there is also a mexican restaurant , chiquito . <user> frankie and benny's sounds good . what is the phone number for that restaurant ?\n"
     ]
    },
    {
     "data": {
      "text/plain": [
       "1.0"
      ]
     },
     "execution_count": 138,
     "metadata": {},
     "output_type": "execute_result"
    }
   ],
   "source": [
    "no_hall_freqs = [] \n",
    "for idx, row in mine_df.iterrows(): \n",
    "    no_hall_freq = 1\n",
    "    dial_id = row['id']\n",
    "    context = dials_form[dial_id]['context'].lower().replace(\" '\", \"'\")\n",
    "    for slot in named_entity_slots_for_trippy: \n",
    "        # pred_slot = row[f'{slot}_pred'].replace(\" ' \", \"'\")\n",
    "        pred_slot = row[f'{slot}_pred']\n",
    "        \n",
    "        if pred_slot != \"none\" and pred_slot not in context: \n",
    "            no_hall_freq = 0 \n",
    "            if pred_slot in label_maps: \n",
    "                for alternative in label_maps[pred_slot]: \n",
    "                    # print(alternative)\n",
    "                    if alternative.replace(\" ' \", \"'\") in context: \n",
    "                        no_hall_freq = 1 \n",
    "\n",
    "            if no_hall_freq == 0 : \n",
    "                print(pred_slot)\n",
    "                print(context)\n",
    "    if no_hall_freq == 0 : \n",
    "        break \n",
    "    no_hall_freqs.append(no_hall_freq)\n",
    "\n",
    "np.mean(no_hall_freqs)"
   ]
  },
  {
   "cell_type": "code",
   "execution_count": 133,
   "metadata": {},
   "outputs": [
    {
     "data": {
      "text/plain": [
       "[\"christ ' s college\", 'christs college']"
      ]
     },
     "execution_count": 133,
     "metadata": {},
     "output_type": "execute_result"
    }
   ],
   "source": [
    "label_maps[\"christ college\"]"
   ]
  },
  {
   "cell_type": "code",
   "execution_count": 136,
   "metadata": {},
   "outputs": [
    {
     "ename": "KeyError",
     "evalue": "\"queens' college\"",
     "output_type": "error",
     "traceback": [
      "\u001b[0;31m---------------------------------------------------------------------------\u001b[0m",
      "\u001b[0;31mKeyError\u001b[0m                                  Traceback (most recent call last)",
      "\u001b[0;32m/tmp/ipykernel_82287/249113284.py\u001b[0m in \u001b[0;36m<module>\u001b[0;34m\u001b[0m\n\u001b[0;32m----> 1\u001b[0;31m \u001b[0mlabel_maps\u001b[0m\u001b[0;34m[\u001b[0m\u001b[0;34m\"queens' college\"\u001b[0m\u001b[0;34m]\u001b[0m\u001b[0;34m\u001b[0m\u001b[0;34m\u001b[0m\u001b[0m\n\u001b[0m",
      "\u001b[0;31mKeyError\u001b[0m: \"queens' college\""
     ]
    }
   ],
   "source": [
    "label_maps[\"queens' college\"]"
   ]
  },
  {
   "cell_type": "code",
   "execution_count": 170,
   "metadata": {},
   "outputs": [
    {
     "data": {
      "text/plain": [
       "dict_keys(['guid', 'class_prediction_taxi-leaveAt', 'class_label_id_taxi-leaveAt', 'start_prediction_taxi-leaveAt', 'start_pos_taxi-leaveAt', 'end_prediction_taxi-leaveAt', 'end_pos_taxi-leaveAt', 'refer_prediction_taxi-leaveAt', 'refer_id_taxi-leaveAt', 'input_ids_taxi-leaveAt', 'class_prediction_taxi-destination', 'class_label_id_taxi-destination', 'start_prediction_taxi-destination', 'start_pos_taxi-destination', 'end_prediction_taxi-destination', 'end_pos_taxi-destination', 'refer_prediction_taxi-destination', 'refer_id_taxi-destination', 'input_ids_taxi-destination', 'class_prediction_taxi-departure', 'class_label_id_taxi-departure', 'start_prediction_taxi-departure', 'start_pos_taxi-departure', 'end_prediction_taxi-departure', 'end_pos_taxi-departure', 'refer_prediction_taxi-departure', 'refer_id_taxi-departure', 'input_ids_taxi-departure', 'class_prediction_taxi-arriveBy', 'class_label_id_taxi-arriveBy', 'start_prediction_taxi-arriveBy', 'start_pos_taxi-arriveBy', 'end_prediction_taxi-arriveBy', 'end_pos_taxi-arriveBy', 'refer_prediction_taxi-arriveBy', 'refer_id_taxi-arriveBy', 'input_ids_taxi-arriveBy', 'class_prediction_restaurant-book_people', 'class_label_id_restaurant-book_people', 'start_prediction_restaurant-book_people', 'start_pos_restaurant-book_people', 'end_prediction_restaurant-book_people', 'end_pos_restaurant-book_people', 'refer_prediction_restaurant-book_people', 'refer_id_restaurant-book_people', 'input_ids_restaurant-book_people', 'class_prediction_restaurant-book_day', 'class_label_id_restaurant-book_day', 'start_prediction_restaurant-book_day', 'start_pos_restaurant-book_day', 'end_prediction_restaurant-book_day', 'end_pos_restaurant-book_day', 'refer_prediction_restaurant-book_day', 'refer_id_restaurant-book_day', 'input_ids_restaurant-book_day', 'class_prediction_restaurant-book_time', 'class_label_id_restaurant-book_time', 'start_prediction_restaurant-book_time', 'start_pos_restaurant-book_time', 'end_prediction_restaurant-book_time', 'end_pos_restaurant-book_time', 'refer_prediction_restaurant-book_time', 'refer_id_restaurant-book_time', 'input_ids_restaurant-book_time', 'class_prediction_restaurant-food', 'class_label_id_restaurant-food', 'start_prediction_restaurant-food', 'start_pos_restaurant-food', 'end_prediction_restaurant-food', 'end_pos_restaurant-food', 'refer_prediction_restaurant-food', 'refer_id_restaurant-food', 'input_ids_restaurant-food', 'class_prediction_restaurant-pricerange', 'class_label_id_restaurant-pricerange', 'start_prediction_restaurant-pricerange', 'start_pos_restaurant-pricerange', 'end_prediction_restaurant-pricerange', 'end_pos_restaurant-pricerange', 'refer_prediction_restaurant-pricerange', 'refer_id_restaurant-pricerange', 'input_ids_restaurant-pricerange', 'class_prediction_restaurant-name', 'class_label_id_restaurant-name', 'start_prediction_restaurant-name', 'start_pos_restaurant-name', 'end_prediction_restaurant-name', 'end_pos_restaurant-name', 'refer_prediction_restaurant-name', 'refer_id_restaurant-name', 'input_ids_restaurant-name', 'class_prediction_restaurant-area', 'class_label_id_restaurant-area', 'start_prediction_restaurant-area', 'start_pos_restaurant-area', 'end_prediction_restaurant-area', 'end_pos_restaurant-area', 'refer_prediction_restaurant-area', 'refer_id_restaurant-area', 'input_ids_restaurant-area', 'class_prediction_hotel-book_people', 'class_label_id_hotel-book_people', 'start_prediction_hotel-book_people', 'start_pos_hotel-book_people', 'end_prediction_hotel-book_people', 'end_pos_hotel-book_people', 'refer_prediction_hotel-book_people', 'refer_id_hotel-book_people', 'input_ids_hotel-book_people', 'class_prediction_hotel-book_day', 'class_label_id_hotel-book_day', 'start_prediction_hotel-book_day', 'start_pos_hotel-book_day', 'end_prediction_hotel-book_day', 'end_pos_hotel-book_day', 'refer_prediction_hotel-book_day', 'refer_id_hotel-book_day', 'input_ids_hotel-book_day', 'class_prediction_hotel-book_stay', 'class_label_id_hotel-book_stay', 'start_prediction_hotel-book_stay', 'start_pos_hotel-book_stay', 'end_prediction_hotel-book_stay', 'end_pos_hotel-book_stay', 'refer_prediction_hotel-book_stay', 'refer_id_hotel-book_stay', 'input_ids_hotel-book_stay', 'class_prediction_hotel-name', 'class_label_id_hotel-name', 'start_prediction_hotel-name', 'start_pos_hotel-name', 'end_prediction_hotel-name', 'end_pos_hotel-name', 'refer_prediction_hotel-name', 'refer_id_hotel-name', 'input_ids_hotel-name', 'class_prediction_hotel-area', 'class_label_id_hotel-area', 'start_prediction_hotel-area', 'start_pos_hotel-area', 'end_prediction_hotel-area', 'end_pos_hotel-area', 'refer_prediction_hotel-area', 'refer_id_hotel-area', 'input_ids_hotel-area', 'class_prediction_hotel-parking', 'class_label_id_hotel-parking', 'start_prediction_hotel-parking', 'start_pos_hotel-parking', 'end_prediction_hotel-parking', 'end_pos_hotel-parking', 'refer_prediction_hotel-parking', 'refer_id_hotel-parking', 'input_ids_hotel-parking', 'class_prediction_hotel-pricerange', 'class_label_id_hotel-pricerange', 'start_prediction_hotel-pricerange', 'start_pos_hotel-pricerange', 'end_prediction_hotel-pricerange', 'end_pos_hotel-pricerange', 'refer_prediction_hotel-pricerange', 'refer_id_hotel-pricerange', 'input_ids_hotel-pricerange', 'class_prediction_hotel-stars', 'class_label_id_hotel-stars', 'start_prediction_hotel-stars', 'start_pos_hotel-stars', 'end_prediction_hotel-stars', 'end_pos_hotel-stars', 'refer_prediction_hotel-stars', 'refer_id_hotel-stars', 'input_ids_hotel-stars', 'class_prediction_hotel-internet', 'class_label_id_hotel-internet', 'start_prediction_hotel-internet', 'start_pos_hotel-internet', 'end_prediction_hotel-internet', 'end_pos_hotel-internet', 'refer_prediction_hotel-internet', 'refer_id_hotel-internet', 'input_ids_hotel-internet', 'class_prediction_hotel-type', 'class_label_id_hotel-type', 'start_prediction_hotel-type', 'start_pos_hotel-type', 'end_prediction_hotel-type', 'end_pos_hotel-type', 'refer_prediction_hotel-type', 'refer_id_hotel-type', 'input_ids_hotel-type', 'class_prediction_attraction-type', 'class_label_id_attraction-type', 'start_prediction_attraction-type', 'start_pos_attraction-type', 'end_prediction_attraction-type', 'end_pos_attraction-type', 'refer_prediction_attraction-type', 'refer_id_attraction-type', 'input_ids_attraction-type', 'class_prediction_attraction-name', 'class_label_id_attraction-name', 'start_prediction_attraction-name', 'start_pos_attraction-name', 'end_prediction_attraction-name', 'end_pos_attraction-name', 'refer_prediction_attraction-name', 'refer_id_attraction-name', 'input_ids_attraction-name', 'class_prediction_attraction-area', 'class_label_id_attraction-area', 'start_prediction_attraction-area', 'start_pos_attraction-area', 'end_prediction_attraction-area', 'end_pos_attraction-area', 'refer_prediction_attraction-area', 'refer_id_attraction-area', 'input_ids_attraction-area', 'class_prediction_train-book_people', 'class_label_id_train-book_people', 'start_prediction_train-book_people', 'start_pos_train-book_people', 'end_prediction_train-book_people', 'end_pos_train-book_people', 'refer_prediction_train-book_people', 'refer_id_train-book_people', 'input_ids_train-book_people', 'class_prediction_train-leaveAt', 'class_label_id_train-leaveAt', 'start_prediction_train-leaveAt', 'start_pos_train-leaveAt', 'end_prediction_train-leaveAt', 'end_pos_train-leaveAt', 'refer_prediction_train-leaveAt', 'refer_id_train-leaveAt', 'input_ids_train-leaveAt', 'class_prediction_train-destination', 'class_label_id_train-destination', 'start_prediction_train-destination', 'start_pos_train-destination', 'end_prediction_train-destination', 'end_pos_train-destination', 'refer_prediction_train-destination', 'refer_id_train-destination', 'input_ids_train-destination', 'class_prediction_train-day', 'class_label_id_train-day', 'start_prediction_train-day', 'start_pos_train-day', 'end_prediction_train-day', 'end_pos_train-day', 'refer_prediction_train-day', 'refer_id_train-day', 'input_ids_train-day', 'class_prediction_train-arriveBy', 'class_label_id_train-arriveBy', 'start_prediction_train-arriveBy', 'start_pos_train-arriveBy', 'end_prediction_train-arriveBy', 'end_pos_train-arriveBy', 'refer_prediction_train-arriveBy', 'refer_id_train-arriveBy', 'input_ids_train-arriveBy', 'class_prediction_train-departure', 'class_label_id_train-departure', 'start_prediction_train-departure', 'start_pos_train-departure', 'end_prediction_train-departure', 'end_pos_train-departure', 'refer_prediction_train-departure', 'refer_id_train-departure', 'input_ids_train-departure', 'slot_prediction_taxi-leaveAt', 'slot_groundtruth_taxi-leaveAt', 'slot_prediction_taxi-destination', 'slot_groundtruth_taxi-destination', 'slot_prediction_taxi-departure', 'slot_groundtruth_taxi-departure', 'slot_prediction_taxi-arriveBy', 'slot_groundtruth_taxi-arriveBy', 'slot_prediction_restaurant-book_people', 'slot_groundtruth_restaurant-book_people', 'slot_prediction_restaurant-book_day', 'slot_groundtruth_restaurant-book_day', 'slot_prediction_restaurant-book_time', 'slot_groundtruth_restaurant-book_time', 'slot_prediction_restaurant-food', 'slot_groundtruth_restaurant-food', 'slot_prediction_restaurant-pricerange', 'slot_groundtruth_restaurant-pricerange', 'slot_prediction_restaurant-name', 'slot_groundtruth_restaurant-name', 'slot_prediction_restaurant-area', 'slot_groundtruth_restaurant-area', 'slot_prediction_hotel-book_people', 'slot_groundtruth_hotel-book_people', 'slot_prediction_hotel-book_day', 'slot_groundtruth_hotel-book_day', 'slot_prediction_hotel-book_stay', 'slot_groundtruth_hotel-book_stay', 'slot_prediction_hotel-name', 'slot_groundtruth_hotel-name', 'slot_prediction_hotel-area', 'slot_groundtruth_hotel-area', 'slot_prediction_hotel-parking', 'slot_groundtruth_hotel-parking', 'slot_prediction_hotel-pricerange', 'slot_groundtruth_hotel-pricerange', 'slot_prediction_hotel-stars', 'slot_groundtruth_hotel-stars', 'slot_prediction_hotel-internet', 'slot_groundtruth_hotel-internet', 'slot_prediction_hotel-type', 'slot_groundtruth_hotel-type', 'slot_prediction_attraction-type', 'slot_groundtruth_attraction-type', 'slot_prediction_attraction-name', 'slot_groundtruth_attraction-name', 'slot_prediction_attraction-area', 'slot_groundtruth_attraction-area', 'slot_prediction_train-book_people', 'slot_groundtruth_train-book_people', 'slot_prediction_train-leaveAt', 'slot_groundtruth_train-leaveAt', 'slot_prediction_train-destination', 'slot_groundtruth_train-destination', 'slot_prediction_train-day', 'slot_groundtruth_train-day', 'slot_prediction_train-arriveBy', 'slot_groundtruth_train-arriveBy', 'slot_prediction_train-departure', 'slot_groundtruth_train-departure'])"
      ]
     },
     "execution_count": 170,
     "metadata": {},
     "output_type": "execute_result"
    }
   ],
   "source": [
    "from transformers import (WEIGHTS_NAME, BertConfig, BertTokenizer,\n",
    "                          RobertaConfig, RobertaTokenizer)\n",
    "\n",
    "tokenizer = BertTokenizer.from_pretrained(\"bert-base-uncased\")\n",
    "data[0].keys()"
   ]
  },
  {
   "cell_type": "code",
   "execution_count": null,
   "metadata": {},
   "outputs": [],
   "source": []
  },
  {
   "cell_type": "code",
   "execution_count": 172,
   "metadata": {},
   "outputs": [
    {
     "data": {
      "text/plain": [
       "\"[CLS] i'm looking for a place to stay. it needs to be a guest house and include free wifi. [SEP] [SEP] [SEP] [PAD] [PAD] [PAD] [PAD] [PAD] [PAD] [PAD] [PAD] [PAD] [PAD] [PAD] [PAD] [PAD] [PAD] [PAD] [PAD] [PAD] [PAD] [PAD] [PAD] [PAD] [PAD] [PAD] [PAD] [PAD] [PAD] [PAD] [PAD] [PAD] [PAD] [PAD] [PAD] [PAD] [PAD] [PAD] [PAD] [PAD] [PAD] [PAD] [PAD] [PAD] [PAD] [PAD] [PAD] [PAD] [PAD] [PAD] [PAD] [PAD] [PAD] [PAD] [PAD] [PAD] [PAD] [PAD] [PAD] [PAD] [PAD] [PAD] [PAD] [PAD] [PAD] [PAD] [PAD] [PAD] [PAD] [PAD] [PAD] [PAD] [PAD] [PAD] [PAD] [PAD] [PAD] [PAD] [PAD] [PAD] [PAD] [PAD] [PAD] [PAD] [PAD] [PAD] [PAD] [PAD] [PAD] [PAD] [PAD] [PAD] [PAD] [PAD] [PAD] [PAD] [PAD] [PAD] [PAD] [PAD] [PAD] [PAD] [PAD] [PAD] [PAD] [PAD] [PAD] [PAD] [PAD] [PAD] [PAD] [PAD] [PAD] [PAD] [PAD] [PAD] [PAD] [PAD] [PAD] [PAD] [PAD] [PAD] [PAD] [PAD] [PAD] [PAD] [PAD] [PAD] [PAD] [PAD] [PAD] [PAD] [PAD] [PAD] [PAD] [PAD] [PAD] [PAD] [PAD] [PAD] [PAD] [PAD] [PAD] [PAD] [PAD] [PAD] [PAD] [PAD] [PAD] [PAD] [PAD] [PAD] [PAD] [PAD] [PAD] [PAD] [PAD] [PAD] [PAD] [PAD] [PAD] [PAD] [PAD] [PAD] [PAD] [PAD] [PAD] [PAD] [PAD] [PAD] [PAD] [PAD] [PAD] [PAD] [PAD] [PAD] [PAD] [PAD] [PAD] [PAD] [PAD] [PAD] [PAD] [PAD] [PAD] [PAD] [PAD] [PAD] [PAD] [PAD] [PAD] [PAD] [PAD] [PAD] [PAD] [PAD] [PAD] [PAD] [PAD] [PAD] [PAD] [PAD] [PAD] [PAD] [PAD] [PAD] [PAD] [PAD] [PAD] [PAD] [PAD] [PAD] [PAD] [PAD] [PAD] [PAD] [PAD] [PAD] [PAD] [PAD] [PAD] [PAD] [PAD] [PAD] [PAD] [PAD] [PAD] [PAD] [PAD] [PAD] [PAD] [PAD] [PAD] [PAD] [PAD] [PAD] [PAD] [PAD] [PAD] [PAD] [PAD] [PAD] [PAD] [PAD] [PAD] [PAD] [PAD] [PAD] [PAD] [PAD] [PAD] [PAD] [PAD] [PAD] [PAD] [PAD] [PAD] [PAD] [PAD] [PAD] [PAD] [PAD] [PAD] [PAD] [PAD] [PAD] [PAD] [PAD] [PAD] [PAD] [PAD] [PAD] [PAD] [PAD] [PAD] [PAD] [PAD] [PAD] [PAD] [PAD] [PAD] [PAD] [PAD] [PAD] [PAD] [PAD] [PAD] [PAD] [PAD] [PAD] [PAD] [PAD] [PAD] [PAD] [PAD] [PAD] [PAD] [PAD] [PAD] [PAD] [PAD] [PAD] [PAD] [PAD] [PAD] [PAD] [PAD] [PAD] [PAD] [PAD] [PAD] [PAD] [PAD] [PAD] [PAD] [PAD] [PAD] [PAD] [PAD] [PAD] [PAD] [PAD] [PAD] [PAD] [PAD] [PAD] [PAD] [PAD] [PAD] [PAD] [PAD] [PAD] [PAD] [PAD] [PAD] [PAD] [PAD] [PAD] [PAD] [PAD] [PAD] [PAD] [PAD] [PAD] [PAD] [PAD] [PAD] [PAD] [PAD] [PAD] [PAD] [PAD] [PAD] [PAD] [PAD] [PAD] [PAD] [PAD] [PAD] [PAD] [PAD] [PAD] [PAD] [PAD] [PAD] [PAD] [PAD] [PAD] [PAD] [PAD] [PAD] [PAD] [PAD] [PAD] [PAD] [PAD] [PAD] [PAD] [PAD] [PAD] [PAD] [PAD] [PAD] [PAD] [PAD] [PAD] [PAD] [PAD] [PAD] [PAD] [PAD] [PAD] [PAD] [PAD] [PAD] [PAD] [PAD] [PAD] [PAD] [PAD] [PAD] [PAD] [PAD] [PAD] [PAD] [PAD] [PAD] [PAD] [PAD] [PAD] [PAD] [PAD] [PAD] [PAD] [PAD] [PAD] [PAD] [PAD] [PAD] [PAD] [PAD] [PAD] [PAD] [PAD] [PAD] [PAD] [PAD] [PAD] [PAD] [PAD] [PAD] [PAD] [PAD] [PAD] [PAD] [PAD] [PAD] [PAD] [PAD] [PAD] [PAD] [PAD] [PAD] [PAD] [PAD] [PAD] [PAD] [PAD] [PAD] [PAD] [PAD] [PAD] [PAD] [PAD] [PAD] [PAD] [PAD] [PAD] [PAD] [PAD] [PAD] [PAD] [PAD] [PAD] [PAD] [PAD] [PAD] [PAD] [PAD] [PAD] [PAD] [PAD] [PAD] [PAD] [PAD] [PAD] [PAD] [PAD] [PAD] [PAD] [PAD] [PAD] [PAD] [PAD] [PAD] [PAD] [PAD] [PAD]\""
      ]
     },
     "execution_count": 172,
     "metadata": {},
     "output_type": "execute_result"
    }
   ],
   "source": [
    "tokenizer.decode(data[0]['input_ids_restaurant-food'])\n",
    "# print(data[0]['refer_id_restaurant-food'])\n"
   ]
  },
  {
   "cell_type": "code",
   "execution_count": 183,
   "metadata": {},
   "outputs": [
    {
     "data": {
      "text/plain": [
       "(1.0, 0)"
      ]
     },
     "execution_count": 183,
     "metadata": {},
     "output_type": "execute_result"
    }
   ],
   "source": [
    "# Get JGA line by line \n",
    "correct_ct = 0 \n",
    "pred_dst = {}\n",
    "gt_dst = {} \n",
    "\n",
    "pred_dst_set = set() \n",
    "gt_dst_set= set() \n",
    "dict_results = [] \n",
    "no_hall_freqs = [] \n",
    "count = 0 \n",
    "\n",
    "for pred in data: \n",
    "   # print(sorted(pred.keys()))\n",
    "   # break\n",
    "   guid = pred['guid']\n",
    "   # reset dsts for new conversation \n",
    "   if guid[-1] == '0': \n",
    "      pred_dst = {} \n",
    "      gt_dst ={} \n",
    "      pred_dst_set = set() \n",
    "      gt_dst_set= set() \n",
    "\n",
    "   # guid: ['test/valid/train', 'dialog id', turn_idx]\n",
    "   dialog_id, turn_idx = guid[1], guid[2]\n",
    "   dict_result = {\n",
    "      \"id\": f\"{dialog_id.lower()}-{turn_idx}\"\n",
    "   } \n",
    "\n",
    "   input_context = tokenizer.decode(pred['input_ids_restaurant-food'])\n",
    "\n",
    "   no_hall_freq = 1\n",
    "   context = dials_form[dict_result[\"id\"]]['context'].lower().replace(\" '\", \"'\")\n",
    "   for slot in named_entity_slots_for_trippy: \n",
    "      joint_pd_slot = pred_dst.get(slot, None)\n",
    "\n",
    "      joint_gt_slot, joint_pd_slot = get_slot_vals(slot, pred, joint_pd_slot, swap_with_map=False)\n",
    "      pred_dst[slot] = joint_pd_slot \n",
    "      gt_dst[slot] = joint_gt_slot  \n",
    "\n",
    "      dict_result[f\"{slot}_gold\"]= joint_gt_slot\n",
    "      dict_result[f\"{slot}_pred\"] = joint_pd_slot\n",
    "\n",
    "      def preprocess(slot): \n",
    "         slot = slot.replace(\" ' s\", \"'s\")\n",
    "         slot = slot.replace(\" '\", \"'\")\n",
    "         slot = slot.replace(\"guest house\", \"guesthouse\")\n",
    "         slot = slot.replace(\" \", \"\")\n",
    "         slot = slot.replace(\"[SEP]\", \"\")\n",
    "         return slot \n",
    "      if joint_pd_slot != \"none\" \\\n",
    "         and joint_pd_slot not in context \\\n",
    "         and preprocess(joint_pd_slot) not in context \\\n",
    "         and preprocess(joint_pd_slot) not in preprocess(context) \\\n",
    "         and preprocess(joint_pd_slot) not in input_context \\\n",
    "         and preprocess(joint_pd_slot) not in preprocess(input_context): \n",
    "         no_hall_freq = 0 \n",
    "         print(joint_pd_slot)\n",
    "         print(preprocess(joint_pd_slot))\n",
    "         print(context)\n",
    "         print(preprocess(input_context))\n",
    "         # print(context)\n",
    "\n",
    "         count += 1 \n",
    "      # elif joint_pd_slot != \"none\" and joint_pd_slot in context: \n",
    "      #    print(joint_pd_slot)\n",
    "      #    print(context)\n",
    "      #    no_hall_freq = 0 \n",
    "      \n",
    "      if joint_pd_slot in label_maps: \n",
    "         for alternative in label_maps[joint_pd_slot]: \n",
    "            # print(alternative)\n",
    "            if alternative in context: \n",
    "               no_hall_freq = 1 \n",
    "\n",
    "      # if no_hall_freq == 0 : \n",
    "      #    print(joint_pd_slot)\n",
    "      #    print(context)\n",
    "   no_hall_freqs.append(no_hall_freq)    \n",
    "\n",
    "   # if no_hall_freq == 0 : \n",
    "   #    break \n",
    "\n",
    "# 100% is expected\n",
    "np.mean(no_hall_freqs), count "
   ]
  },
  {
   "cell_type": "code",
   "execution_count": 164,
   "metadata": {},
   "outputs": [
    {
     "data": {
      "text/plain": [
       "False"
      ]
     },
     "execution_count": 164,
     "metadata": {},
     "output_type": "execute_result"
    }
   ],
   "source": [
    "\"museum of archaelogy and anthropology\" == \"museum of archaeology and anthropology\""
   ]
  },
  {
   "cell_type": "code",
   "execution_count": 1,
   "metadata": {},
   "outputs": [],
   "source": [
    "from get_conditional_jga import load_pred_as_df\n",
    "from get_coref_jga import format_data_as_df"
   ]
  },
  {
   "cell_type": "code",
   "execution_count": 2,
   "metadata": {},
   "outputs": [],
   "source": [
    "import os"
   ]
  },
  {
   "cell_type": "code",
   "execution_count": 3,
   "metadata": {},
   "outputs": [],
   "source": [
    "dir = \"results/multiwoz23_lr1e-4_gpu2\"\n",
    "\n",
    "orig_fn = os.path.join(dir, \"pred_res.test.final.json\")\n",
    "\n",
    "tp_fn = os.path.join(dir, f\"pred_res.test.finalTP.json\")\n",
    "sd_fn = os.path.join(dir, f\"pred_res.test.finalSD.json\")\n",
    "nei_fn = os.path.join(dir, f\"pred_res.test.finalNEI.json\")\n",
    "\n",
    "orig_df = load_pred_as_df(orig_fn)\n",
    "tp_df = load_pred_as_df(tp_fn)\n",
    "sd_df = load_pred_as_df(sd_fn)\n",
    "nei_df = load_pred_as_df(nei_fn)"
   ]
  },
  {
   "cell_type": "code",
   "execution_count": 4,
   "metadata": {},
   "outputs": [],
   "source": [
    "orig_ids = orig_df['id'].tolist() \n",
    "sd_ids = sd_df['id'].tolist() \n",
    "tp_ids = tp_df['id'].tolist() \n",
    "nei_ids = nei_df['id'].tolist()"
   ]
  },
  {
   "cell_type": "code",
   "execution_count": 11,
   "metadata": {},
   "outputs": [
    {
     "data": {
      "text/plain": [
       "(False, False, True)"
      ]
     },
     "execution_count": 11,
     "metadata": {},
     "output_type": "execute_result"
    }
   ],
   "source": [
    "set(orig_ids) == set(sd_ids), tp_ids == orig_ids, nei_ids == orig_ids"
   ]
  },
  {
   "cell_type": "code",
   "execution_count": 6,
   "metadata": {},
   "outputs": [
    {
     "data": {
      "text/plain": [
       "True"
      ]
     },
     "execution_count": 6,
     "metadata": {},
     "output_type": "execute_result"
    }
   ],
   "source": [
    "tp_ids  == sd_ids"
   ]
  },
  {
   "cell_type": "code",
   "execution_count": 10,
   "metadata": {},
   "outputs": [
    {
     "data": {
      "text/plain": [
       "(['pmul4648-0', 'sng0073-0', 'sng0073-1', 'sng0073-2', 'sng0073-3'],\n",
       " ['mul0003.json-0',\n",
       "  'mul0003.json-1',\n",
       "  'mul0003.json-2',\n",
       "  'mul0003.json-3',\n",
       "  'mul0003.json-4'])"
      ]
     },
     "execution_count": 10,
     "metadata": {},
     "output_type": "execute_result"
    }
   ],
   "source": [
    "sorted(tp_ids[:5]), sorted(orig_ids[:5])"
   ]
  },
  {
   "cell_type": "code",
   "execution_count": 13,
   "metadata": {},
   "outputs": [
    {
     "data": {
      "text/plain": [
       "7372"
      ]
     },
     "execution_count": 13,
     "metadata": {},
     "output_type": "execute_result"
    }
   ],
   "source": [
    "len(orig_ids)"
   ]
  },
  {
   "cell_type": "code",
   "execution_count": 12,
   "metadata": {},
   "outputs": [
    {
     "data": {
      "text/plain": [
       "7372"
      ]
     },
     "execution_count": 12,
     "metadata": {},
     "output_type": "execute_result"
    }
   ],
   "source": [
    "len(tp_ids)"
   ]
  },
  {
   "cell_type": "code",
   "execution_count": 8,
   "metadata": {},
   "outputs": [
    {
     "data": {
      "text/plain": [
       "set()"
      ]
     },
     "execution_count": 8,
     "metadata": {},
     "output_type": "execute_result"
    }
   ],
   "source": [
    "set(orig_ids).intersection(set(sd_ids))"
   ]
  }
 ],
 "metadata": {
  "interpreter": {
   "hash": "9c565cfbc7cce0adff0dfd96ef86c8b0d4bbe117dea75197b93939f3141c5402"
  },
  "kernelspec": {
   "display_name": "Python 3.8.12 64-bit ('trippy': conda)",
   "language": "python",
   "name": "python3"
  },
  "language_info": {
   "codemirror_mode": {
    "name": "ipython",
    "version": 3
   },
   "file_extension": ".py",
   "mimetype": "text/x-python",
   "name": "python",
   "nbconvert_exporter": "python",
   "pygments_lexer": "ipython3",
   "version": "3.7.11"
  },
  "orig_nbformat": 4
 },
 "nbformat": 4,
 "nbformat_minor": 2
}
