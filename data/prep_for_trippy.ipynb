{
 "cells": [
  {
   "cell_type": "code",
   "execution_count": 72,
   "metadata": {},
   "outputs": [
    {
     "name": "stdout",
     "output_type": "stream",
     "text": [
      "The autoreload extension is already loaded. To reload it, use:\n",
      "  %reload_ext autoreload\n"
     ]
    }
   ],
   "source": [
    "%load_ext autoreload\n",
    "%autoreload 2\n",
    "\n",
    "# format all data.json files needed for running with LAUG files \n",
    "# 1. replace all text with text from laug text (TP & SD)\n",
    "# 2. replace all text with mutated entities and change labels with mutated entities"
   ]
  },
  {
   "cell_type": "markdown",
   "metadata": {},
   "source": [
    "# create dataset with named entities replaced "
   ]
  },
  {
   "cell_type": "code",
   "execution_count": 73,
   "metadata": {},
   "outputs": [],
   "source": [
    "from parlai.tasks.multiwoz_checkdst.mutator import EntityMutator"
   ]
  },
  {
   "cell_type": "code",
   "execution_count": 74,
   "metadata": {},
   "outputs": [],
   "source": [
    "named_entity_slots_for_trippy ={\n",
    "    \"attraction-name\",\n",
    "    \"restaurant-name\",\n",
    "    \"hotel-name\",\n",
    "    \"taxi-departure\",\n",
    "    \"taxi-destination\",\n",
    "    \"train-departure\",\n",
    "    \"train-destination\",\n",
    "}"
   ]
  },
  {
   "cell_type": "code",
   "execution_count": 75,
   "metadata": {},
   "outputs": [],
   "source": [
    "import numpy as np  \n",
    "from argparse import ArgumentParser"
   ]
  },
  {
   "cell_type": "code",
   "execution_count": 76,
   "metadata": {},
   "outputs": [],
   "source": [
    "# enforce same mutation as ParlAI agent \n",
    "SEED = 42\n",
    "rng = np.random.RandomState(SEED)\n",
    "mutator = EntityMutator(opt=None, rng=rng)"
   ]
  },
  {
   "cell_type": "code",
   "execution_count": 77,
   "metadata": {},
   "outputs": [],
   "source": [
    "sample =    {'dialog_act': {'Booking-Request': [['Stay', '?'], ['Day', '?']]},\n",
    "    'metadata': {'attraction': {'book': {'booked': []},\n",
    "      'semi': {'area': '', 'name': '', 'type': ''}},\n",
    "     'hospital': {'book': {'booked': []}, 'semi': {'department': ''}},\n",
    "     'hotel': {'book': {'booked': [],\n",
    "       'day': 'monday',\n",
    "       'people': '',\n",
    "       'stay': ''},\n",
    "      'semi': {'area': 'centre',\n",
    "       'internet': 'dontcare',\n",
    "       'name': 'alexander bed and breakfast',\n",
    "       'parking': 'not mentioned',\n",
    "       'pricerange': 'not mentioned',\n",
    "       'stars': 'not mentioned',\n",
    "       'type': 'guesthouse'}},\n",
    "     'police': {'book': {'booked': []}, 'semi': {}},\n",
    "     'restaurant': {'book': {'booked': [],\n",
    "       'day': '',\n",
    "       'people': '',\n",
    "       'time': ''},\n",
    "      'semi': {'area': '', 'food': '', 'name': '', 'pricerange': ''}},\n",
    "     'taxi': {'book': {'booked': []},\n",
    "      'semi': {'arriveBy': '',\n",
    "       'departure': '',\n",
    "       'destination': '',\n",
    "       'leaveAt': ''}},\n",
    "     'train': {'book': {'booked': [], 'people': ''},\n",
    "      'semi': {'arriveBy': '',\n",
    "       'day': '',\n",
    "       'departure': '',\n",
    "       'destination': '',\n",
    "       'leaveAt': ''}}},\n",
    "    'span_info': [],\n",
    "    'text': 'what day would you like to book on and for how long ?',\n",
    "    'turn_id': 5}"
   ]
  },
  {
   "cell_type": "code",
   "execution_count": 78,
   "metadata": {},
   "outputs": [],
   "source": [
    "from utils import replace_dict_values_str"
   ]
  },
  {
   "cell_type": "code",
   "execution_count": 79,
   "metadata": {},
   "outputs": [
    {
     "data": {
      "text/plain": [
       "{'dialog_act': {'Booking-Request': [['Stay', '?'], ['Day', '?']]},\n",
       " 'metadata': {'attraction': {'book': {'booked': []},\n",
       "   'semi': {'area': '', 'name': '', 'type': ''}},\n",
       "  'hospital': {'book': {'booked': []}, 'semi': {'department': ''}},\n",
       "  'hotel': {'book': {'booked': [], 'day': 'monday', 'people': '', 'stay': ''},\n",
       "   'semi': {'area': 'centre',\n",
       "    'internet': 'dontcare',\n",
       "    'name': 'whatever',\n",
       "    'parking': 'not mentioned',\n",
       "    'pricerange': 'not mentioned',\n",
       "    'stars': 'not mentioned',\n",
       "    'type': 'guesthouse'}},\n",
       "  'police': {'book': {'booked': []}, 'semi': {}},\n",
       "  'restaurant': {'book': {'booked': [], 'day': '', 'people': '', 'time': ''},\n",
       "   'semi': {'area': '', 'food': '', 'name': '', 'pricerange': ''}},\n",
       "  'taxi': {'book': {'booked': []},\n",
       "   'semi': {'arriveBy': '',\n",
       "    'departure': '',\n",
       "    'destination': '',\n",
       "    'leaveAt': ''}},\n",
       "  'train': {'book': {'booked': [], 'people': ''},\n",
       "   'semi': {'arriveBy': '',\n",
       "    'day': '',\n",
       "    'departure': '',\n",
       "    'destination': '',\n",
       "    'leaveAt': ''}}},\n",
       " 'span_info': [],\n",
       " 'text': 'what day would you like to book on and for how long ?',\n",
       " 'turn_id': 5}"
      ]
     },
     "execution_count": 79,
     "metadata": {},
     "output_type": "execute_result"
    }
   ],
   "source": [
    "# replace_dict_values_str(sample, \"alexander bed and breakfast\", \"some sample word\")\n",
    "replace_dict_values_str(sample, \"alexander bed and breakfast\", \"whatever\")\n",
    "sample"
   ]
  },
  {
   "cell_type": "code",
   "execution_count": 80,
   "metadata": {},
   "outputs": [],
   "source": [
    "import json"
   ]
  },
  {
   "cell_type": "code",
   "execution_count": 81,
   "metadata": {},
   "outputs": [],
   "source": [
    "orig_fn = \"multiwoz_dst/MULTIWOZ2.3/data.json\"\n",
    "with open(orig_fn, \"r\") as f: \n",
    "    orig = json.load(f)"
   ]
  },
  {
   "cell_type": "code",
   "execution_count": 82,
   "metadata": {},
   "outputs": [],
   "source": [
    "from tqdm import tqdm "
   ]
  },
  {
   "cell_type": "code",
   "execution_count": 83,
   "metadata": {},
   "outputs": [],
   "source": [
    "with open(\"multiwoz_dst/MULTIWOZ2.1/testListFile.json\", \"r\") as f: \n",
    "    test_convs = f.readlines()\n",
    "    test_convs = [t.replace(\"\\n\", \"\") for t in test_convs]"
   ]
  },
  {
   "cell_type": "code",
   "execution_count": 84,
   "metadata": {},
   "outputs": [
    {
     "data": {
      "text/plain": [
       "1000"
      ]
     },
     "execution_count": 84,
     "metadata": {},
     "output_type": "execute_result"
    }
   ],
   "source": [
    "len(test_convs)"
   ]
  },
  {
   "cell_type": "code",
   "execution_count": 85,
   "metadata": {},
   "outputs": [
    {
     "data": {
      "text/plain": [
       "'SNG01856.json'"
      ]
     },
     "execution_count": 85,
     "metadata": {},
     "output_type": "execute_result"
    }
   ],
   "source": [
    "list(orig.keys())[0]"
   ]
  },
  {
   "cell_type": "code",
   "execution_count": 86,
   "metadata": {},
   "outputs": [
    {
     "data": {
      "text/plain": [
       "'MUL0484.json'"
      ]
     },
     "execution_count": 86,
     "metadata": {},
     "output_type": "execute_result"
    }
   ],
   "source": [
    "test_convs[0]"
   ]
  },
  {
   "cell_type": "code",
   "execution_count": 87,
   "metadata": {},
   "outputs": [
    {
     "name": "stderr",
     "output_type": "stream",
     "text": [
      "100%|██████████| 10438/10438 [00:04<00:00, 2194.66it/s]\n"
     ]
    }
   ],
   "source": [
    "swapped_ct = 0 \n",
    "change = False \n",
    "ned_conversion_map = {} \n",
    "nei_orig = orig.copy()  \n",
    "slot_vals = set()\n",
    "change_list = [] \n",
    "n_text_examples = 0 \n",
    "print_ = False \n",
    "for dial_id, dial in tqdm(nei_orig.items()): \n",
    "\n",
    "    def replace_with_scrambled_entity(domain, slot_type, slot_value, print_=False): \n",
    "        slot_value = slot_value.lower() \n",
    "        change = False \n",
    "        if f\"{domain}-{slot_type}\" in named_entity_slots_for_trippy: \n",
    "            change = True\n",
    "\n",
    "            if \"\".join(sorted(slot_value)) not in ned_conversion_map: \n",
    "                new_v  = mutator.scramble(slot_value)\n",
    "                ned_conversion_map[\"\".join(sorted(slot_value))] = new_v\n",
    "            else: \n",
    "                new_v = ned_conversion_map[\"\".join(sorted(slot_value))]\n",
    "\n",
    "            # go through all turns and replace if found \n",
    "            for idx2 in range(len(dial['log'])): \n",
    "                # update only if the golden slot value is actually found in the text\n",
    "                if slot_value.lower() in dial['log'][idx2]['text'].lower(): \n",
    "                    # update text \n",
    "                    dial['log'][idx2]['text']= dial['log'][idx2]['text'].lower().replace(slot_value, new_v)\n",
    "                    # update metadata \n",
    "                    replace_dict_values_str(dial['log'][idx2]['metadata'], slot_value, new_v)\n",
    "                    change = True \n",
    "\n",
    "                    if print_: \n",
    "                        print(dial['log'][idx2]['text'])\n",
    "                        print(f\"{domain} {slot_type} {slot_value}\")\n",
    "                        print(f\"{domain} {slot_type} {new_v}\")\n",
    "                \n",
    "        return change \n",
    "    \n",
    "    for idx in reversed(range(0, len(dial['log']), 2)): \n",
    "        user_utt = dial['log'][idx]['text']\n",
    "        sys_utt = dial['log'][idx+1]['text']\n",
    "        metadata = dial['log'][idx+1]['metadata']\n",
    "\n",
    "        change = False \n",
    "        for domain, slots in metadata.items(): \n",
    "            for k, v in slots['book'].items(): \n",
    "                if k == \"booked\": \n",
    "                    if v == []: \n",
    "                        continue \n",
    "                    else: \n",
    "                        for booked_places in slots['book']['booked']: \n",
    "                            for slot_type, slot_value in booked_places.items():\n",
    "                                slot_vals.add(slot_value)\n",
    "                                change = change or replace_with_scrambled_entity(domain, slot_type, slot_value, print_=print_)\n",
    "                                \n",
    "                        \n",
    "                elif v and v!= \"not mentioned\":  \n",
    "                    # print(f\"{domain} {k} {v}\")\n",
    "                    change = change or replace_with_scrambled_entity(domain, k, v, print_=print_)\n",
    "\n",
    "            for k,v in slots['semi'].items(): \n",
    "                if v and v!=\"not mentioned\": \n",
    "                    change = change or replace_with_scrambled_entity(domain, k, v, print_=print_)\n",
    "        n_text_examples += dial_id in test_convs \n",
    "        if change and dial_id in test_convs:\n",
    "            dial_full_id = f\"{dial_id.lower().replace('.json', '')}-{idx//2}\"\n",
    "            change_list.append(dial_full_id) \n",
    "\n",
    "        # break \n",
    "    "
   ]
  },
  {
   "cell_type": "code",
   "execution_count": 88,
   "metadata": {},
   "outputs": [
    {
     "data": {
      "text/plain": [
       "7372"
      ]
     },
     "execution_count": 88,
     "metadata": {},
     "output_type": "execute_result"
    }
   ],
   "source": [
    "n_text_examples"
   ]
  },
  {
   "cell_type": "code",
   "execution_count": 89,
   "metadata": {},
   "outputs": [
    {
     "data": {
      "text/plain": [
       "6055"
      ]
     },
     "execution_count": 89,
     "metadata": {},
     "output_type": "execute_result"
    }
   ],
   "source": [
    "len(change_list)"
   ]
  },
  {
   "cell_type": "code",
   "execution_count": 90,
   "metadata": {},
   "outputs": [],
   "source": [
    "assert n_text_examples == 7372 "
   ]
  },
  {
   "cell_type": "code",
   "execution_count": 91,
   "metadata": {},
   "outputs": [
    {
     "data": {
      "text/plain": [
       "'mul0003-3'"
      ]
     },
     "execution_count": 91,
     "metadata": {},
     "output_type": "execute_result"
    }
   ],
   "source": [
    "sorted(change_list)[0]"
   ]
  },
  {
   "cell_type": "code",
   "execution_count": 92,
   "metadata": {},
   "outputs": [],
   "source": [
    "data_dir = os.environ.get(\"DATADIR\", \"\")\n",
    "\n",
    "with open(os.path.join(data_dir, \"checkdst/NED/changed_dialids_test_fewshot_False.txt\"), \"r\") as f: \n",
    "    changed_parlai_ids = f.readlines()\n",
    "    changed_parlai_ids = [c.replace(\"\\n\", \"\") for c in changed_parlai_ids]"
   ]
  },
  {
   "cell_type": "code",
   "execution_count": 93,
   "metadata": {},
   "outputs": [
    {
     "data": {
      "text/plain": [
       "('mul0003-3', 'mul0003-5')"
      ]
     },
     "execution_count": 93,
     "metadata": {},
     "output_type": "execute_result"
    }
   ],
   "source": [
    "sorted(change_list)[0], sorted(changed_parlai_ids)[0]"
   ]
  },
  {
   "cell_type": "code",
   "execution_count": 94,
   "metadata": {},
   "outputs": [
    {
     "data": {
      "text/plain": [
       "(5804, 6055, 5804)"
      ]
     },
     "execution_count": 94,
     "metadata": {},
     "output_type": "execute_result"
    }
   ],
   "source": [
    "len(changed_parlai_ids), len(change_list), len(set(change_list).intersection(changed_parlai_ids))"
   ]
  },
  {
   "cell_type": "code",
   "execution_count": 95,
   "metadata": {},
   "outputs": [
    {
     "data": {
      "text/plain": [
       "1076"
      ]
     },
     "execution_count": 95,
     "metadata": {},
     "output_type": "execute_result"
    }
   ],
   "source": [
    "len(ned_conversion_map)"
   ]
  },
  {
   "cell_type": "code",
   "execution_count": 96,
   "metadata": {},
   "outputs": [
    {
     "name": "stdout",
     "output_type": "stream",
     "text": [
      "True\n",
      "True\n",
      "True\n",
      "True\n"
     ]
    }
   ],
   "source": [
    "ne_samples = [\n",
    "    \"birmingham new street\", \n",
    "    \"golden house\", \n",
    "    \"express by holiday inn cambridge\",\n",
    "    \"the cambridge belfry\"\n",
    "]\n",
    "\n",
    "for ne_sample in ne_samples: \n",
    "    print(\"\".join(sorted(ne_sample.lower())) in ned_conversion_map)"
   ]
  },
  {
   "cell_type": "code",
   "execution_count": 97,
   "metadata": {},
   "outputs": [],
   "source": [
    "#need to update the dialogue_acts.json file as well?? for inference, no. \n",
    "with open(\"multiwoz_dst/MULTIWOZ2.1/dialogue_acts.json\", \"r\") as f: \n",
    "    dacts = json.load(f)"
   ]
  },
  {
   "cell_type": "code",
   "execution_count": 98,
   "metadata": {},
   "outputs": [],
   "source": [
    "ACTS_DICT = {'taxi-depart': 'taxi-departure',\n",
    "             'taxi-dest': 'taxi-destination',\n",
    "             'taxi-leave': 'taxi-leaveAt',\n",
    "             'taxi-arrive': 'taxi-arriveBy',\n",
    "             'train-depart': 'train-departure',\n",
    "             'train-dest': 'train-destination',\n",
    "             'train-leave': 'train-leaveAt',\n",
    "             'train-arrive': 'train-arriveBy',\n",
    "             'train-people': 'train-book_people',\n",
    "             'restaurant-price': 'restaurant-pricerange',\n",
    "             'restaurant-people': 'restaurant-book_people',\n",
    "             'restaurant-day': 'restaurant-book_day',\n",
    "             'restaurant-time': 'restaurant-book_time',\n",
    "             'hotel-price': 'hotel-pricerange',\n",
    "             'hotel-people': 'hotel-book_people',\n",
    "             'hotel-day': 'hotel-book_day',\n",
    "             'hotel-stay': 'hotel-book_stay',\n",
    "             'booking-people': 'booking-book_people',\n",
    "             'booking-day': 'booking-book_day',\n",
    "             'booking-stay': 'booking-book_stay',\n",
    "             'booking-time': 'booking-book_time',\n",
    "}\n"
   ]
  },
  {
   "cell_type": "code",
   "execution_count": 99,
   "metadata": {},
   "outputs": [],
   "source": [
    "def load_acts(input_file):\n",
    "    with open(input_file) as f:\n",
    "        acts = json.load(f)\n",
    "    s_dict = {}\n",
    "    for d in acts:\n",
    "        for t in acts[d]:\n",
    "            # Only process, if turn has annotation\n",
    "            if isinstance(acts[d][t], dict):\n",
    "                for a in acts[d][t]:\n",
    "                    aa = a.lower().split('-')\n",
    "                    if aa[1] == 'inform' or aa[1] == 'recommend' or aa[1] == 'select' or aa[1] == 'book':\n",
    "                        for i in acts[d][t][a]:\n",
    "                            s = i[0].lower()\n",
    "                            v = i[1].lower().strip()\n",
    "                            if s == 'none' or v == '?' or v == 'none':\n",
    "                                continue\n",
    "                            slot = aa[0] + '-' + s\n",
    "                            if slot in ACTS_DICT:\n",
    "                                slot = ACTS_DICT[slot]\n",
    "                            key = d + '.json', t, slot\n",
    "                            # In case of multiple mentioned values...\n",
    "                            # ... Option 1: Keep first informed value\n",
    "                            if key not in s_dict:\n",
    "                                s_dict[key] = list([v])\n",
    "                            # ... Option 2: Keep last informed value\n",
    "                            #s_dict[key] = list([v])\n",
    "    return s_dict"
   ]
  },
  {
   "cell_type": "code",
   "execution_count": 100,
   "metadata": {},
   "outputs": [],
   "source": [
    "s_dict = load_acts(\"multiwoz_dst/MULTIWOZ2.3/dialogue_acts.json\")"
   ]
  },
  {
   "cell_type": "code",
   "execution_count": 101,
   "metadata": {},
   "outputs": [],
   "source": [
    "from loguru import logger"
   ]
  },
  {
   "cell_type": "code",
   "execution_count": 115,
   "metadata": {},
   "outputs": [
    {
     "name": "stderr",
     "output_type": "stream",
     "text": [
      "  0%|          | 0/10438 [00:00<?, ?it/s]2022-03-08 01:28:39.116 | INFO     | __main__:<module>:28 - (\"prezzo's\", \"'eoprszz\")\n",
      "2022-03-08 01:28:39.117 | INFO     | __main__:<module>:28 - (' anatolia restauran', '  aaaaaeilnnorrsttu')\n",
      "2022-03-08 01:28:39.121 | INFO     | __main__:<module>:28 - (' the river bar steakhouse and grill', '      aaabdeeeeghhiikllnorrrrssttuv')\n",
      "2022-03-08 01:28:39.123 | INFO     | __main__:<module>:28 - (' the golden curry', '   cdeeghlnorrtuy')\n",
      "2022-03-08 01:28:39.124 | INFO     | __main__:<module>:28 - (' saffron brasserie', '  aabeeffinorrrsss')\n",
      "2022-03-08 01:28:39.130 | INFO     | __main__:<module>:28 - (' Riverside Brasserie', '  abdeeeeiiirrrrsssv')\n",
      "2022-03-08 01:28:39.139 | INFO     | __main__:<module>:28 - (' Rice House', '  ceehiorsu')\n",
      "2022-03-08 01:28:39.140 | INFO     | __main__:<module>:28 - (' Golden House', '  deeghlnoosu')\n",
      "2022-03-08 01:28:39.142 | INFO     | __main__:<module>:28 - ('curry prince ', '  cceinprrruy')\n",
      "2022-03-08 01:28:39.144 | INFO     | __main__:<module>:28 - ('The Restaurant One Seven', '   aaeeeeehnnnorrsstttuv')\n",
      "2022-03-08 01:28:39.165 | INFO     | __main__:<module>:28 - (' Travelers Rest', '  aeeelrrrssttv')\n",
      "2022-03-08 01:28:39.165 | INFO     | __main__:<module>:28 - (' Travellers Rest', '  aeeellrrrssttv')\n",
      "2022-03-08 01:28:39.166 | INFO     | __main__:<module>:28 - ('Bedouin ', ' bdeinou')\n",
      "2022-03-08 01:28:39.170 | INFO     | __main__:<module>:28 - ('cow pizza kitchen and bar ', '     aaabccdehiiknnoprtwzz')\n",
      "2022-03-08 01:28:39.173 | INFO     | __main__:<module>:28 - ('Mahal of Cambridge ', '   aaabcdefghilmmor')\n",
      "2022-03-08 01:28:39.176 | INFO     | __main__:<module>:28 - (' riverside brasserie', '  abdeeeeiiirrrrsssv')\n",
      "2022-03-08 01:28:39.177 | INFO     | __main__:<module>:28 - (' riverside brasserie', '  abdeeeeiiirrrrsssv')\n",
      "2022-03-08 01:28:39.181 | INFO     | __main__:<module>:28 - ('Statizione Restaurant and Coffee Bar', '    aaaaabcdeeeeffiinnnoorrrssttttuz')\n",
      "2022-03-08 01:28:39.182 | INFO     | __main__:<module>:28 - (' Clowns Cafe', '  acceflnosw')\n",
      "2022-03-08 01:28:39.182 | INFO     | __main__:<module>:28 - (' Don Pasquale Pizzeria', '   aaadeeiilnoppqrsuzz')\n",
      "2022-03-08 01:28:39.183 | INFO     | __main__:<module>:28 - (' Caffe Uno', '  aceffnou')\n",
      "2022-03-08 01:28:39.185 | INFO     | __main__:<module>:28 - (' Tang Chinese', '  aceeghinnst')\n",
      "2022-03-08 01:28:39.185 | INFO     | __main__:<module>:28 - (' HK Fusion', '  fhiknosu')\n",
      "2022-03-08 01:28:39.186 | INFO     | __main__:<module>:28 - (' Sesame Restaurant and bar', '    aaaaabdeeemnnrrrsssttu')\n",
      "2022-03-08 01:28:39.191 | INFO     | __main__:<module>:28 - (' The Cambridge Chop House', '    abccdeeeghhhimooprstu')\n",
      "2022-03-08 01:28:39.191 | INFO     | __main__:<module>:28 - (' Midsummer House Restaurant', '   aadeeehimmmnorrrsssttuuu')\n",
      "2022-03-08 01:28:39.194 | INFO     | __main__:<module>:28 - (' Ask', ' aks')\n",
      "2022-03-08 01:28:39.194 | INFO     | __main__:<module>:28 - (' Zizzi Cambridge', '  abcdegiiimrzzz')\n",
      "2022-03-08 01:28:39.204 | INFO     | __main__:<module>:28 - ('the Curry Garden restaurant', '   aaacdeeeghnnrrrrrstttuuy')\n",
      "2022-03-08 01:28:39.206 | INFO     | __main__:<module>:28 - (\" Saint John's Chop House\", \"    'acehhhijnnooopssstu\")\n",
      "2022-03-08 01:28:39.207 | INFO     | __main__:<module>:28 - (\" Traveller's Rest\", \"  'aeeellrrrssttv\")\n",
      "2022-03-08 01:28:39.211 | INFO     | __main__:<module>:28 - ('Bloomsbury Restaurant ', '  aabbelmnoorrrssttuuy')\n",
      " 29%|██▊       | 2976/10438 [00:00<00:00, 29754.50it/s]2022-03-08 01:28:39.215 | INFO     | __main__:<module>:28 - (' Rajmahal', ' aaahjlmr')\n",
      "2022-03-08 01:28:39.216 | INFO     | __main__:<module>:28 - ('Fitzbillies ', ' befiiillstz')\n",
      "2022-03-08 01:28:39.221 | INFO     | __main__:<module>:28 - (' the Cambridge Chop House', '    abccdeeeghhhimooprstu')\n",
      "2022-03-08 01:28:39.221 | INFO     | __main__:<module>:28 - (' Midsummer House', '  deehimmmorssuu')\n",
      "2022-03-08 01:28:39.228 | INFO     | __main__:<module>:28 - (' Riverside Brasserie', '  abdeeeeiiirrrrsssv')\n",
      "2022-03-08 01:28:39.230 | INFO     | __main__:<module>:28 - (' Sitar Tandoori', '  aadiinoorrstt')\n",
      "2022-03-08 01:28:39.240 | INFO     | __main__:<module>:28 - ('cote ', ' ceot')\n",
      "2022-03-08 01:28:39.247 | INFO     | __main__:<module>:28 - ('The Golden House ', '   deeeghhlnoostu')\n",
      "2022-03-08 01:28:39.261 | INFO     | __main__:<module>:28 - ('Shiraz ', ' ahirsz')\n",
      "2022-03-08 01:28:39.268 | INFO     | __main__:<module>:28 - ('Loch fine', ' cefhilno')\n",
      "2022-03-08 01:28:39.271 | INFO     | __main__:<module>:28 - (' lan hong house', '   aeghhlnnoosu')\n",
      "2022-03-08 01:28:39.271 | INFO     | __main__:<module>:28 - (' shanghai family restaurant ', '    aaaaaefghhiilmnnrrssttuy')\n",
      "2022-03-08 01:28:39.276 | INFO     | __main__:<module>:28 - ('Saigon City ', '  acgiinosty')\n",
      "2022-03-08 01:28:39.281 | INFO     | __main__:<module>:28 - (' Rice House', '  ceehiorsu')\n",
      "2022-03-08 01:28:39.281 | INFO     | __main__:<module>:28 - (' Golden House', '  deeghlnoosu')\n",
      "2022-03-08 01:28:39.284 | INFO     | __main__:<module>:28 - ('Golden Wok ', '  degklnoow')\n",
      "2022-03-08 01:28:39.285 | INFO     | __main__:<module>:28 - ('Nirala ', ' aailnr')\n",
      "2022-03-08 01:28:39.286 | INFO     | __main__:<module>:28 - ('Kymmoy ', ' kmmoyy')\n",
      "2022-03-08 01:28:39.292 | INFO     | __main__:<module>:28 - (' Peking Restaurant', '  aaeegiknnprrsttu')\n",
      "2022-03-08 01:28:39.293 | INFO     | __main__:<module>:28 - ('nandos ', ' adnnos')\n",
      "2022-03-08 01:28:39.294 | INFO     | __main__:<module>:28 - (' Nandos City Centre', '   accdeeinnnorstty')\n",
      "2022-03-08 01:28:39.295 | INFO     | __main__:<module>:28 - (' Efes Restaurant', '  aaeeefnrrssttu')\n",
      "2022-03-08 01:28:39.296 | INFO     | __main__:<module>:28 - (' The Oak Bistro', '   abehikoorstt')\n",
      "2022-03-08 01:28:39.300 | INFO     | __main__:<module>:28 - (' clowns cafe', '  acceflnosw')\n",
      "2022-03-08 01:28:39.300 | INFO     | __main__:<module>:28 - (' don pasquale pizzeria', '   aaadeeiilnoppqrsuzz')\n",
      "2022-03-08 01:28:39.301 | INFO     | __main__:<module>:28 - (' caffe uno', '  aceffnou')\n",
      "2022-03-08 01:28:39.304 | INFO     | __main__:<module>:28 - (' Royal Standard', '  aaaddlnorrsty')\n",
      "2022-03-08 01:28:39.304 | INFO     | __main__:<module>:28 - (' The Slug and Lettuce and Backstreet Bistr', '       aaabbccddeeeeeghikllnnrrsssttttttuu')\n",
      "2022-03-08 01:28:39.306 | INFO     | __main__:<module>:28 - (' The Hotpot', '  ehhoopttt')\n",
      "2022-03-08 01:28:39.307 | INFO     | __main__:<module>:28 - (' The Copper Kettle', '   ceeeehklopprttt')\n",
      "2022-03-08 01:28:39.308 | INFO     | __main__:<module>:28 - (' Restaurant One Seven', '   aaeeeennnorrssttuv')\n",
      "2022-03-08 01:28:39.308 | INFO     | __main__:<module>:28 - (' and Cotto', '  acdnoott')\n",
      "2022-03-08 01:28:39.309 | INFO     | __main__:<module>:28 - (' Bloomsbury Restaurant', '  aabbelmnoorrrssttuuy')\n",
      " 58%|█████▊    | 6037/10438 [00:00<00:00, 30253.34it/s]2022-03-08 01:28:39.322 | INFO     | __main__:<module>:28 - ('Copper Kettle ', '  ceeeklopprtt')\n",
      "2022-03-08 01:28:39.326 | INFO     | __main__:<module>:28 - ('Clowns Cafe ', '  acceflnosw')\n",
      "2022-03-08 01:28:39.332 | INFO     | __main__:<module>:28 - (' Da vinci pizzeria', '   aacdeiiiinprvzz')\n",
      "2022-03-08 01:28:39.334 | INFO     | __main__:<module>:28 - ('The cotto restaurant', '  aaceehnoorrstttttu')\n",
      "2022-03-08 01:28:39.340 | INFO     | __main__:<module>:28 - (' frankie and bennys', '   aabdeefiknnnnrsy')\n",
      "2022-03-08 01:28:39.342 | INFO     | __main__:<module>:28 - (' galleria', ' aaegillr')\n",
      "2022-03-08 01:28:39.344 | INFO     | __main__:<module>:28 - (' The Hotpot', '  ehhoopttt')\n",
      "2022-03-08 01:28:39.349 | INFO     | __main__:<module>:28 - ('La Mimosa Restaurant', '  aaaaeilmmnorrssttu')\n",
      "2022-03-08 01:28:39.349 | INFO     | __main__:<module>:28 - (' Shiraz Restaurant', '  aaaehinrrrssttuz')\n",
      "2022-03-08 01:28:39.352 | INFO     | __main__:<module>:28 - (' Shiraz', ' ahirsz')\n",
      "2022-03-08 01:28:39.354 | INFO     | __main__:<module>:28 - ('The Peking', ' eeghiknpt')\n",
      "2022-03-08 01:28:39.359 | INFO     | __main__:<module>:28 - ('The Michaelhouse Cafe', '  aacceeeefhhhilmostu')\n",
      "2022-03-08 01:28:39.373 | INFO     | __main__:<module>:28 - (' shiraz restaurant', '  aaaehinrrrssttuz')\n",
      "2022-03-08 01:28:39.393 | INFO     | __main__:<module>:28 - ('\"tandoori palace\" \"rice boat\" \"cocum\" \"india house\" and \"maharajah tandoori restaurant\"', '          \"\"\"\"\"\"\"\"\"\"aaaaaaaaaaaaabccccddddeeeehhhiiiiijlmmnnnnnoooooooprrrrrrsstttttuuu')\n",
      "2022-03-08 01:28:39.399 | INFO     | __main__:<module>:28 - (' Tang Chinese', '  aceeghinnst')\n",
      "2022-03-08 01:28:39.400 | INFO     | __main__:<module>:28 - (' HK Fusion', '  fhiknosu')\n",
      "2022-03-08 01:28:39.400 | INFO     | __main__:<module>:28 - (' Seasame Restaurant and Bar', '    aaaaaabdeeemnnrrrsssttu')\n",
      "2022-03-08 01:28:39.407 | INFO     | __main__:<module>:28 - (' Ask', ' aks')\n",
      "2022-03-08 01:28:39.407 | INFO     | __main__:<module>:28 - (' Zizzi Cambridge', '  abcdegiiimrzzz')\n",
      " 87%|████████▋ | 9063/10438 [00:00<00:00, 29972.93it/s]2022-03-08 01:28:39.416 | INFO     | __main__:<module>:28 - (' Ask', ' aks')\n",
      "2022-03-08 01:28:39.416 | INFO     | __main__:<module>:28 - (' Zizzi Cambridge', '  abcdegiiimrzzz')\n",
      "2022-03-08 01:28:39.417 | INFO     | __main__:<module>:28 - (' Bloomsbury Restaurant', '  aabbelmnoorrrssttuuy')\n",
      "2022-03-08 01:28:39.420 | INFO     | __main__:<module>:28 - (' peking restaurant', '  aaeegiknnprrsttu')\n",
      "2022-03-08 01:28:39.435 | INFO     | __main__:<module>:28 - (' Rajmahal', ' aaahjlmr')\n",
      "2022-03-08 01:28:39.436 | INFO     | __main__:<module>:28 - (' the Pizza Hut Fen Ditton', '     adeefhhiinnopttttuzz')\n",
      "2022-03-08 01:28:39.439 | INFO     | __main__:<module>:28 - (' Hakka', ' aahkk')\n",
      "2022-03-08 01:28:39.440 | INFO     | __main__:<module>:28 - (' the hotspot', '  ehhoopsttt')\n",
      "2022-03-08 01:28:39.440 | INFO     | __main__:<module>:28 - (' city stop restaurant', '   aaceinoprrssttttuy')\n",
      "2022-03-08 01:28:39.440 | INFO     | __main__:<module>:28 - (' restaurant two two', '   aaenoorrsttttuww')\n",
      "2022-03-08 01:28:39.441 | INFO     | __main__:<module>:28 - (' the gandhi', '  adeghhint')\n",
      "2022-03-08 01:28:39.442 | INFO     | __main__:<module>:28 - (' mahal of cambridge', '   aaabcdefghilmmor')\n",
      "2022-03-08 01:28:39.452 | INFO     | __main__:<module>:28 - (' Clowns Cafe', '  acceflnosw')\n",
      "2022-03-08 01:28:39.453 | INFO     | __main__:<module>:28 - (' Don Pasquale Pizzeria', '   aaadeeiilnoppqrsuzz')\n",
      "2022-03-08 01:28:39.453 | INFO     | __main__:<module>:28 - (' Caffe Uno', '  aceffnou')\n",
      "2022-03-08 01:28:39.454 | INFO     | __main__:<module>:28 - (' Travellers Rest', '  aeeellrrrssttv')\n",
      "2022-03-08 01:28:39.456 | INFO     | __main__:<module>:28 - (' the Lan Hong House', '    aeeghhhlnnoostu')\n",
      "2022-03-08 01:28:39.457 | INFO     | __main__:<module>:28 - (' the Shanghai Family Restaurant', '    aaaaaeefghhhiilmnnrrsstttuy')\n",
      "2022-03-08 01:28:39.458 | INFO     | __main__:<module>:28 - (' Thanh Binh', '  abhhhinnt')\n",
      "2022-03-08 01:28:39.458 | INFO     | __main__:<module>:28 - (' Shiraz', ' ahirsz')\n",
      "2022-03-08 01:28:39.459 | INFO     | __main__:<module>:28 - ('missing sock ', '  cgiikmnosss')\n",
      "2022-03-08 01:28:39.463 | INFO     | __main__:<module>:28 - (' Shiraz Restaurant', '  aaaehinrrrssttuz')\n",
      "100%|██████████| 10438/10438 [00:00<00:00, 29328.99it/s]\n"
     ]
    },
    {
     "data": {
      "text/plain": [
       "1000"
      ]
     },
     "execution_count": 115,
     "metadata": {},
     "output_type": "execute_result"
    }
   ],
   "source": [
    "from collections import Counter \n",
    "slot_counter = Counter()\n",
    "slotname_counter = Counter()\n",
    "slotvalue_counter = Counter()\n",
    "count = 0 \n",
    "for dial_id, turn_acts in tqdm(dacts.items()): \n",
    "    # print(dial_id + \".json\")\n",
    "    # break\n",
    "\n",
    "    if dial_id + \".json\" not in test_convs: \n",
    "        continue\n",
    "    else: \n",
    "        count += 1\n",
    "\n",
    "    for turn, acts in turn_acts.items(): \n",
    "\n",
    "        if isinstance(acts, dict): \n",
    "            for slot, slot_vals in acts.items(): \n",
    "                for sv in slot_vals: \n",
    "                    # print(slot, sv)\n",
    "                    slot_counter[f\"{slot}-{sv[0]}-{sv[1]}\"] += 1 \n",
    "                    slotname_counter[f\"{slot}-{sv[0]}\"] += 1 \n",
    "                    \n",
    "\n",
    "                    if f\"{slot}-{sv[0]}\" == \"Restaurant-Inform-Name\" and sv[1] != \"None\": \n",
    "                        slotvalue_counter[sv[0]] += 1 \n",
    "                        if \"\".join(sorted(sv[1].lower())) not in ned_conversion_map: \n",
    "                            logger.info((sv[1], \"\".join(sorted(sv[1].lower()))))\n",
    "                        # assert \"\".join(sorted(sv[1].lower())) in nei_conversion_map, (sv[1], \"\".join(sorted(sv[1].lower())))\n",
    "        else: \n",
    "            if acts == \"No Annotation\": \n",
    "                continue \n",
    "            print(f\"Not a dict: {acts}\")\n",
    "\n",
    "    # print(acts)\n",
    "    # break\n",
    "count"
   ]
  },
  {
   "cell_type": "code",
   "execution_count": 116,
   "metadata": {},
   "outputs": [
    {
     "data": {
      "text/plain": [
       "[('Name', 359)]"
      ]
     },
     "execution_count": 116,
     "metadata": {},
     "output_type": "execute_result"
    }
   ],
   "source": [
    "slot_counter.most_common(10)\n",
    "slotvalue_counter.most_common(10)"
   ]
  },
  {
   "cell_type": "code",
   "execution_count": 104,
   "metadata": {},
   "outputs": [
    {
     "data": {
      "text/plain": [
       "'multiwoz_dst/MULTIWOZ2.3/data.json'"
      ]
     },
     "execution_count": 104,
     "metadata": {},
     "output_type": "execute_result"
    }
   ],
   "source": [
    "orig_fn"
   ]
  },
  {
   "cell_type": "code",
   "execution_count": 105,
   "metadata": {},
   "outputs": [
    {
     "ename": "FileNotFoundError",
     "evalue": "[Errno 2] No such file or directory: '/data/home/justincho/trippy-public-master/data/laug_dst/NEI/data.json'",
     "output_type": "error",
     "traceback": [
      "\u001b[0;31m---------------------------------------------------------------------------\u001b[0m",
      "\u001b[0;31mFileNotFoundError\u001b[0m                         Traceback (most recent call last)",
      "\u001b[0;32m/tmp/ipykernel_102467/1474098675.py\u001b[0m in \u001b[0;36m<module>\u001b[0;34m\u001b[0m\n\u001b[1;32m      1\u001b[0m \u001b[0mnei_orig_fn\u001b[0m \u001b[0;34m=\u001b[0m \u001b[0;34m\"/data/home/justincho/trippy-public-master/data/laug_dst/NEI/data.json\"\u001b[0m\u001b[0;34m\u001b[0m\u001b[0;34m\u001b[0m\u001b[0m\n\u001b[0;32m----> 2\u001b[0;31m \u001b[0;32mwith\u001b[0m \u001b[0mopen\u001b[0m\u001b[0;34m(\u001b[0m\u001b[0mnei_orig_fn\u001b[0m\u001b[0;34m,\u001b[0m \u001b[0;34m\"w\"\u001b[0m\u001b[0;34m)\u001b[0m \u001b[0;32mas\u001b[0m \u001b[0mf\u001b[0m\u001b[0;34m:\u001b[0m\u001b[0;34m\u001b[0m\u001b[0;34m\u001b[0m\u001b[0m\n\u001b[0m\u001b[1;32m      3\u001b[0m     \u001b[0mjson\u001b[0m\u001b[0;34m.\u001b[0m\u001b[0mdump\u001b[0m\u001b[0;34m(\u001b[0m\u001b[0mnei_orig\u001b[0m\u001b[0;34m,\u001b[0m \u001b[0mf\u001b[0m\u001b[0;34m,\u001b[0m \u001b[0mindent\u001b[0m\u001b[0;34m=\u001b[0m\u001b[0;36m4\u001b[0m\u001b[0;34m)\u001b[0m\u001b[0;34m\u001b[0m\u001b[0;34m\u001b[0m\u001b[0m\n",
      "\u001b[0;31mFileNotFoundError\u001b[0m: [Errno 2] No such file or directory: '/data/home/justincho/trippy-public-master/data/laug_dst/NEI/data.json'"
     ]
    }
   ],
   "source": [
    "nei_orig_fn = \"/data/home/justincho/trippy-public-master/data/laug_dst/NEI/data.json\"\n",
    "with open(nei_orig_fn, \"w\") as f: \n",
    "    json.dump(nei_orig, f, indent=4)"
   ]
  },
  {
   "cell_type": "code",
   "execution_count": 107,
   "metadata": {},
   "outputs": [],
   "source": [
    "orig_fn_test = \"multiwoz_dst/MULTIWOZ2.3/test_dials.json\"\n"
   ]
  },
  {
   "cell_type": "code",
   "execution_count": 108,
   "metadata": {},
   "outputs": [],
   "source": [
    "with open(orig_fn_test, \"r\") as f: \n",
    "    orig_test_data = json.load(f)"
   ]
  },
  {
   "cell_type": "code",
   "execution_count": 109,
   "metadata": {},
   "outputs": [
    {
     "data": {
      "text/plain": [
       "('SNG01856.json', 'MUL0003.json')"
      ]
     },
     "execution_count": 109,
     "metadata": {},
     "output_type": "execute_result"
    }
   ],
   "source": [
    "list(nei_orig.keys())[0], list(orig_test_data.keys())[0]"
   ]
  },
  {
   "cell_type": "code",
   "execution_count": 110,
   "metadata": {},
   "outputs": [],
   "source": [
    "nei_test_data = {} \n",
    "for k in orig_test_data.keys(): \n",
    "    nei_test_data[k] = nei_orig[k]"
   ]
  },
  {
   "cell_type": "code",
   "execution_count": 111,
   "metadata": {},
   "outputs": [
    {
     "data": {
      "text/plain": [
       "1000"
      ]
     },
     "execution_count": 111,
     "metadata": {},
     "output_type": "execute_result"
    }
   ],
   "source": [
    "len(nei_test_data)"
   ]
  },
  {
   "cell_type": "code",
   "execution_count": 112,
   "metadata": {},
   "outputs": [],
   "source": [
    "str_data = json.dumps(nei_test_data)"
   ]
  },
  {
   "cell_type": "code",
   "execution_count": 114,
   "metadata": {},
   "outputs": [
    {
     "data": {
      "text/plain": [
       "True"
      ]
     },
     "execution_count": 114,
     "metadata": {},
     "output_type": "execute_result"
    }
   ],
   "source": [
    "\"Golden House\".lower() in str_data.lower()"
   ]
  },
  {
   "cell_type": "code",
   "execution_count": null,
   "metadata": {},
   "outputs": [],
   "source": [
    "nei_test_fn = \"checkdst/NED/test_dials.json\"\n",
    "with open(nei_test_fn, \"w\") as f: \n",
    "    json.dump(nei_test_data, f, indent=4)"
   ]
  },
  {
   "cell_type": "code",
   "execution_count": null,
   "metadata": {},
   "outputs": [],
   "source": [
    "with open(nei_test_fn, \"r\") as f: \n",
    "    data = f.read()"
   ]
  },
  {
   "cell_type": "code",
   "execution_count": null,
   "metadata": {},
   "outputs": [
    {
     "data": {
      "text/plain": [
       "'{'"
      ]
     },
     "execution_count": 106,
     "metadata": {},
     "output_type": "execute_result"
    }
   ],
   "source": [
    "data[0]"
   ]
  },
  {
   "cell_type": "code",
   "execution_count": null,
   "metadata": {},
   "outputs": [
    {
     "data": {
      "text/plain": [
       "[{'text': \"i 'm looking for a place to stay . it needs to be a guesthouse and include free wifi .\",\n",
       "  'metadata': {},\n",
       "  'dialog_act': {'Hotel-Inform': [['Type', 'guesthouse'],\n",
       "    ['Internet', 'yes']]},\n",
       "  'span_info': [['Hotel-Inform', 'Type', 'guesthouse', 14, 14]],\n",
       "  'turn_id': 0},\n",
       " {'text': 'there are 23 hotels that meet your needs . would you like to narrow your search by area and/or price range ?',\n",
       "  'metadata': {'taxi': {'book': {'booked': []},\n",
       "    'semi': {'leaveAt': '',\n",
       "     'destination': '',\n",
       "     'departure': '',\n",
       "     'arriveBy': ''}},\n",
       "   'police': {'book': {'booked': []}, 'semi': {}},\n",
       "   'restaurant': {'book': {'booked': [], 'people': '', 'day': '', 'time': ''},\n",
       "    'semi': {'food': '', 'pricerange': '', 'name': '', 'area': ''}},\n",
       "   'hospital': {'book': {'booked': []}, 'semi': {'department': ''}},\n",
       "   'hotel': {'book': {'booked': [], 'people': '', 'day': '', 'stay': ''},\n",
       "    'semi': {'name': 'not mentioned',\n",
       "     'area': 'not mentioned',\n",
       "     'parking': 'not mentioned',\n",
       "     'pricerange': 'not mentioned',\n",
       "     'stars': 'not mentioned',\n",
       "     'internet': 'yes',\n",
       "     'type': 'guesthouse'}},\n",
       "   'attraction': {'book': {'booked': []},\n",
       "    'semi': {'type': '', 'name': '', 'area': ''}},\n",
       "   'train': {'book': {'booked': [], 'people': ''},\n",
       "    'semi': {'leaveAt': '',\n",
       "     'destination': '',\n",
       "     'day': '',\n",
       "     'arriveBy': '',\n",
       "     'departure': ''}}},\n",
       "  'dialog_act': {'Hotel-Request': [['Area', '?'], ['Price', '?']],\n",
       "   'Hotel-Inform': [['Choice', '23'], ['Type', 'hotels']]},\n",
       "  'span_info': [['Hotel-Inform', 'Choice', '23', 2, 2],\n",
       "   ['Hotel-Inform', 'Type', 'hotels', 3, 3]],\n",
       "  'turn_id': 1},\n",
       " {'text': 'i would like for it to be cheap and include free parking .',\n",
       "  'metadata': {},\n",
       "  'dialog_act': {'Hotel-Inform': [['Parking', 'yes'], ['Price', 'cheap']]},\n",
       "  'span_info': [['Hotel-Inform', 'Price', 'cheap', 7, 7]],\n",
       "  'turn_id': 2},\n",
       " {'text': 'there are nine guesthouse hotels in various areas . what part of town are you hoping for ?',\n",
       "  'metadata': {'taxi': {'book': {'booked': []},\n",
       "    'semi': {'leaveAt': '',\n",
       "     'destination': '',\n",
       "     'departure': '',\n",
       "     'arriveBy': ''}},\n",
       "   'police': {'book': {'booked': []}, 'semi': {}},\n",
       "   'restaurant': {'book': {'booked': [], 'people': '', 'day': '', 'time': ''},\n",
       "    'semi': {'food': '', 'pricerange': '', 'name': '', 'area': ''}},\n",
       "   'hospital': {'book': {'booked': []}, 'semi': {'department': ''}},\n",
       "   'hotel': {'book': {'booked': [], 'people': '', 'day': '', 'stay': ''},\n",
       "    'semi': {'name': 'not mentioned',\n",
       "     'area': 'not mentioned',\n",
       "     'parking': 'yes',\n",
       "     'pricerange': 'cheap',\n",
       "     'stars': 'not mentioned',\n",
       "     'internet': 'yes',\n",
       "     'type': 'guesthouse'}},\n",
       "   'attraction': {'book': {'booked': []},\n",
       "    'semi': {'type': '', 'name': '', 'area': ''}},\n",
       "   'train': {'book': {'booked': [], 'people': ''},\n",
       "    'semi': {'leaveAt': '',\n",
       "     'destination': '',\n",
       "     'day': '',\n",
       "     'arriveBy': '',\n",
       "     'departure': ''}}},\n",
       "  'dialog_act': {'Hotel-Request': [['Area', '?']],\n",
       "   'Hotel-Inform': [['Choice', 'nine'],\n",
       "    ['Type', 'guesthouse hotels'],\n",
       "    ['Area', 'various']]},\n",
       "  'span_info': [['Hotel-Inform', 'Choice', 'nine', 2, 2],\n",
       "   ['Hotel-Inform', 'Type', 'guesthouse hotels', 3, 4],\n",
       "   ['Hotel-Inform', 'Area', 'various', 6, 6]],\n",
       "  'turn_id': 3},\n",
       " {'text': \"nothing in particular . i just need it booked for 6 people for a total of 4 nights starting from sunday . i 'd also like the reference number , please .\",\n",
       "  'metadata': {},\n",
       "  'dialog_act': {'Hotel-Inform': [['Stay', '4'],\n",
       "    ['Day', 'sunday'],\n",
       "    ['People', '6']],\n",
       "   'Hotel-Request': [['Ref', '?']]},\n",
       "  'span_info': [['Hotel-Inform', 'Stay', '4', 16, 16],\n",
       "   ['Hotel-Inform', 'Day', 'sunday', 20, 20],\n",
       "   ['Hotel-Inform', 'People', '6', 10, 10]],\n",
       "  'turn_id': 4},\n",
       " {'text': 'sure ! we will book you in a hotel with 4 stars .   the reservation will be for 6 people for 4 nights .   how many rooms would you like to reserve ?',\n",
       "  'metadata': {'taxi': {'book': {'booked': []},\n",
       "    'semi': {'leaveAt': '',\n",
       "     'destination': '',\n",
       "     'departure': '',\n",
       "     'arriveBy': ''}},\n",
       "   'police': {'book': {'booked': []}, 'semi': {}},\n",
       "   'restaurant': {'book': {'booked': [], 'people': '', 'day': '', 'time': ''},\n",
       "    'semi': {'food': '', 'pricerange': '', 'name': '', 'area': ''}},\n",
       "   'hospital': {'book': {'booked': []}, 'semi': {'department': ''}},\n",
       "   'hotel': {'book': {'booked': [],\n",
       "     'people': '6',\n",
       "     'day': 'sunday',\n",
       "     'stay': '4'},\n",
       "    'semi': {'name': 'not mentioned',\n",
       "     'area': 'not mentioned',\n",
       "     'parking': 'yes',\n",
       "     'pricerange': 'cheap',\n",
       "     'stars': 'not mentioned',\n",
       "     'internet': 'yes',\n",
       "     'type': 'guesthouse'}},\n",
       "   'attraction': {'book': {'booked': []},\n",
       "    'semi': {'type': '', 'name': '', 'area': ''}},\n",
       "   'train': {'book': {'booked': [], 'people': ''},\n",
       "    'semi': {'leaveAt': '',\n",
       "     'destination': '',\n",
       "     'day': '',\n",
       "     'arriveBy': '',\n",
       "     'departure': ''}}},\n",
       "  'dialog_act': {'Booking-Inform': [['People', '6'], ['Stay', '4']],\n",
       "   'Hotel-Inform': [['Stars', '4'], ['Type', 'hotel']],\n",
       "   'Booking-Request': [['People', '?']]},\n",
       "  'span_info': [['Booking-Inform', 'People', '6', 18, 18],\n",
       "   ['Booking-Inform', 'Stay', '4', 21, 21],\n",
       "   ['Hotel-Inform', 'Stars', '4', 10, 10],\n",
       "   ['Hotel-Inform', 'Type', 'hotel', 8, 8]],\n",
       "  'turn_id': 5},\n",
       " {'text': 'well , for six people i suppose i will be needing three rooms , for four nights , starting sunday .',\n",
       "  'metadata': {},\n",
       "  'dialog_act': {'Hotel-Inform': [['Stay', 'four'],\n",
       "    ['Day', 'sunday'],\n",
       "    ['People', 'six']]},\n",
       "  'span_info': [['Hotel-Inform', 'Stay', 'four', 15, 15],\n",
       "   ['Hotel-Inform', 'Day', 'sunday', 19, 19],\n",
       "   ['Hotel-Inform', 'People', 'six', 3, 3]],\n",
       "  'turn_id': 6},\n",
       " {'text': \"you 're booked at the abakradt xea esar dbnnedfle , 517a coldham lane , for 6 people for four nights tarting sunday . your reference number is jxvkz7kv .\",\n",
       "  'metadata': {'taxi': {'book': {'booked': []},\n",
       "    'semi': {'leaveAt': '',\n",
       "     'destination': '',\n",
       "     'departure': '',\n",
       "     'arriveBy': ''}},\n",
       "   'police': {'book': {'booked': []}, 'semi': {}},\n",
       "   'restaurant': {'book': {'booked': [], 'people': '', 'day': '', 'time': ''},\n",
       "    'semi': {'food': '', 'pricerange': '', 'name': '', 'area': ''}},\n",
       "   'hospital': {'book': {'booked': []}, 'semi': {'department': ''}},\n",
       "   'hotel': {'book': {'booked': [{'name': 'abakradt xea esar dbnnedfle',\n",
       "       'reference': 'JXVKZ7KV'}],\n",
       "     'people': '6',\n",
       "     'day': 'sunday',\n",
       "     'stay': '4'},\n",
       "    'semi': {'name': 'not mentioned',\n",
       "     'area': 'not mentioned',\n",
       "     'parking': 'yes',\n",
       "     'pricerange': 'cheap',\n",
       "     'stars': 'not mentioned',\n",
       "     'internet': 'yes',\n",
       "     'type': 'guesthouse'}},\n",
       "   'attraction': {'book': {'booked': []},\n",
       "    'semi': {'type': '', 'name': '', 'area': ''}},\n",
       "   'train': {'book': {'booked': [], 'people': ''},\n",
       "    'semi': {'leaveAt': '',\n",
       "     'destination': '',\n",
       "     'day': '',\n",
       "     'arriveBy': '',\n",
       "     'departure': ''}}},\n",
       "  'dialog_act': {'Booking-Book': [['Name', 'Alexander Bed and Breakfast'],\n",
       "    ['People', '6'],\n",
       "    ['Stay', 'four'],\n",
       "    ['Day', 'Sunday'],\n",
       "    ['Ref', 'JXVKZ7KV']],\n",
       "   'Hotel-Inform': [['Addr', '517a coldham lane']]},\n",
       "  'span_info': [['Booking-Book', 'Name', 'Alexander Bed and Breakfast', 5, 8],\n",
       "   ['Hotel-Inform', 'Addr', '517a coldham lane', 10, 12],\n",
       "   ['Booking-Book', 'People', '6', 15, 15],\n",
       "   ['Booking-Book', 'Stay', 'four', 18, 18],\n",
       "   ['Booking-Book', 'Day', 'Sunday', 21, 21],\n",
       "   ['Booking-Book', 'Ref', 'JXVKZ7KV', 27, 27]],\n",
       "  'turn_id': 7},\n",
       " {'text': \"thank you ! i 'm also looking for a restaurant . ideally an italian place in the same price range in the centre .\",\n",
       "  'metadata': {},\n",
       "  'dialog_act': {'Restaurant-Inform': [['Food', 'italian'],\n",
       "    ['Price', 'same price range'],\n",
       "    ['Area', 'centre']]},\n",
       "  'span_info': [['Restaurant-Inform', 'Food', 'italian', 13, 13],\n",
       "   ['Restaurant-Inform', 'Price', 'same price range', 17, 19],\n",
       "   ['Restaurant-Inform', 'Area', 'centre', 22, 22]],\n",
       "  'coreference': {'Restaurant-Inform': [['Price',\n",
       "     'same price range',\n",
       "     'cheap',\n",
       "     2,\n",
       "     '7-7']]},\n",
       "  'turn_id': 8},\n",
       " {'text': 'i found sanu rrtsetaak would you like to book that ?',\n",
       "  'metadata': {'taxi': {'book': {'booked': []},\n",
       "    'semi': {'leaveAt': '',\n",
       "     'destination': '',\n",
       "     'departure': '',\n",
       "     'arriveBy': ''}},\n",
       "   'police': {'book': {'booked': []}, 'semi': {}},\n",
       "   'restaurant': {'book': {'booked': [], 'people': '', 'day': '', 'time': ''},\n",
       "    'semi': {'food': 'italian',\n",
       "     'pricerange': 'cheap',\n",
       "     'name': 'not mentioned',\n",
       "     'area': 'centre'}},\n",
       "   'hospital': {'book': {'booked': []}, 'semi': {'department': ''}},\n",
       "   'hotel': {'book': {'booked': [{'name': 'abakradt xea esar dbnnedfle',\n",
       "       'reference': 'JXVKZ7KV'}],\n",
       "     'people': '6',\n",
       "     'day': 'sunday',\n",
       "     'stay': '4'},\n",
       "    'semi': {'name': 'not mentioned',\n",
       "     'area': 'not mentioned',\n",
       "     'parking': 'yes',\n",
       "     'pricerange': 'cheap',\n",
       "     'stars': 'not mentioned',\n",
       "     'internet': 'yes',\n",
       "     'type': 'guesthouse'}},\n",
       "   'attraction': {'book': {'booked': []},\n",
       "    'semi': {'type': '', 'name': '', 'area': ''}},\n",
       "   'train': {'book': {'booked': [], 'people': ''},\n",
       "    'semi': {'leaveAt': '',\n",
       "     'destination': '',\n",
       "     'day': '',\n",
       "     'arriveBy': '',\n",
       "     'departure': ''}}},\n",
       "  'dialog_act': {'Booking-Inform': [['Name', 'Ask']]},\n",
       "  'span_info': [['Booking-Inform', 'Name', 'Ask', 2, 2]],\n",
       "  'turn_id': 9},\n",
       " {'text': 'is the name of the restaurant sanu rrtsetaak ?',\n",
       "  'metadata': {},\n",
       "  'dialog_act': {'Restaurant-Inform': [['Name', 'Ask restaurant']]},\n",
       "  'span_info': [['Restaurant-Inform', 'Name', 'Ask restaurant', 6, 7]],\n",
       "  'turn_id': 10},\n",
       " {'text': 'yes , the restaurant is called sanu rrtsetaak . would you like to book a table there ?',\n",
       "  'metadata': {'taxi': {'book': {'booked': []},\n",
       "    'semi': {'leaveAt': '',\n",
       "     'destination': '',\n",
       "     'departure': '',\n",
       "     'arriveBy': ''}},\n",
       "   'police': {'book': {'booked': []}, 'semi': {}},\n",
       "   'restaurant': {'book': {'booked': [], 'people': '', 'day': '', 'time': ''},\n",
       "    'semi': {'food': 'italian',\n",
       "     'pricerange': 'cheap',\n",
       "     'name': 'sanu rrtsetaak',\n",
       "     'area': 'centre'}},\n",
       "   'hospital': {'book': {'booked': []}, 'semi': {'department': ''}},\n",
       "   'hotel': {'book': {'booked': [{'name': 'abakradt xea esar dbnnedfle',\n",
       "       'reference': 'JXVKZ7KV'}],\n",
       "     'people': '6',\n",
       "     'day': 'sunday',\n",
       "     'stay': '4'},\n",
       "    'semi': {'name': 'not mentioned',\n",
       "     'area': 'not mentioned',\n",
       "     'parking': 'yes',\n",
       "     'pricerange': 'cheap',\n",
       "     'stars': 'not mentioned',\n",
       "     'internet': 'yes',\n",
       "     'type': 'guesthouse'}},\n",
       "   'attraction': {'book': {'booked': []},\n",
       "    'semi': {'type': '', 'name': '', 'area': ''}},\n",
       "   'train': {'book': {'booked': [], 'people': ''},\n",
       "    'semi': {'leaveAt': '',\n",
       "     'destination': '',\n",
       "     'day': '',\n",
       "     'arriveBy': '',\n",
       "     'departure': ''}}},\n",
       "  'dialog_act': {'Booking-Inform': [['none', 'none']],\n",
       "   'Restaurant-Inform': [['Name', 'Ask restaurant']]},\n",
       "  'span_info': [['Restaurant-Inform', 'Name', 'Ask restaurant', 6, 7]],\n",
       "  'turn_id': 11},\n",
       " {'text': 'yes . book it for the same group of people on the same day at 18:45 . can i get the reference number please ?',\n",
       "  'metadata': {},\n",
       "  'dialog_act': {'Restaurant-Inform': [['Time', '18:45'],\n",
       "    ['Day', 'same day'],\n",
       "    ['People', 'same group of people']],\n",
       "   'Restaurant-Request': [['Ref', '?']]},\n",
       "  'span_info': [['Restaurant-Inform', 'Time', '18:45', 15, 15],\n",
       "   ['Restaurant-Inform', 'Day', 'same day', 12, 13],\n",
       "   ['Restaurant-Inform', 'People', 'same group of people', 6, 9]],\n",
       "  'coreference': {'Restaurant-Inform': [['People',\n",
       "     'same group of people',\n",
       "     'six',\n",
       "     6,\n",
       "     '3-3'],\n",
       "    ['Day', 'same day', 'sunday', 6, '19-19']]},\n",
       "  'turn_id': 12},\n",
       " {'text': 'great ! your booking for 6 people at the restaurant ask on sunday at 18:45 was successful ! your reference number is y2y8qyby .',\n",
       "  'metadata': {'taxi': {'book': {'booked': []},\n",
       "    'semi': {'leaveAt': '',\n",
       "     'destination': '',\n",
       "     'departure': '',\n",
       "     'arriveBy': ''}},\n",
       "   'police': {'book': {'booked': []}, 'semi': {}},\n",
       "   'restaurant': {'book': {'booked': [{'name': 'sanu rrtsetaak',\n",
       "       'reference': 'Y2Y8QYBY'}],\n",
       "     'people': '6',\n",
       "     'day': 'sunday',\n",
       "     'time': '18:45'},\n",
       "    'semi': {'food': 'italian',\n",
       "     'pricerange': 'cheap',\n",
       "     'name': 'sanu rrtsetaak',\n",
       "     'area': 'centre'}},\n",
       "   'hospital': {'book': {'booked': []}, 'semi': {'department': ''}},\n",
       "   'hotel': {'book': {'booked': [{'name': 'abakradt xea esar dbnnedfle',\n",
       "       'reference': 'JXVKZ7KV'}],\n",
       "     'people': '6',\n",
       "     'day': 'sunday',\n",
       "     'stay': '4'},\n",
       "    'semi': {'name': 'not mentioned',\n",
       "     'area': 'not mentioned',\n",
       "     'parking': 'yes',\n",
       "     'pricerange': 'cheap',\n",
       "     'stars': 'not mentioned',\n",
       "     'internet': 'yes',\n",
       "     'type': 'guesthouse'}},\n",
       "   'attraction': {'book': {'booked': []},\n",
       "    'semi': {'type': '', 'name': '', 'area': ''}},\n",
       "   'train': {'book': {'booked': [], 'people': ''},\n",
       "    'semi': {'leaveAt': '',\n",
       "     'destination': '',\n",
       "     'day': '',\n",
       "     'arriveBy': '',\n",
       "     'departure': ''}}},\n",
       "  'dialog_act': {'Booking-Book': [['Time', '18:45'],\n",
       "    ['Day', 'Sunday'],\n",
       "    ['People', '6'],\n",
       "    ['Name', 'Ask'],\n",
       "    ['Ref', 'Y2Y8QYBY']],\n",
       "   'general-greet': [['none', 'none']]},\n",
       "  'span_info': [['Booking-Book', 'Time', '18:45', 14, 14],\n",
       "   ['Booking-Book', 'Day', 'Sunday', 12, 12],\n",
       "   ['Booking-Book', 'People', '6', 5, 5],\n",
       "   ['Booking-Book', 'Name', 'Ask', 10, 10],\n",
       "   ['Booking-Book', 'Ref', 'Y2Y8QYBY', 22, 22]],\n",
       "  'turn_id': 13},\n",
       " {'text': 'i am all set . thank you .',\n",
       "  'metadata': {},\n",
       "  'dialog_act': {'general-thank': [['none', 'none']]},\n",
       "  'span_info': [],\n",
       "  'turn_id': 14},\n",
       " {'text': 'thank you for using the cambridge towneinfo help desk !',\n",
       "  'metadata': {'taxi': {'book': {'booked': []},\n",
       "    'semi': {'leaveAt': '',\n",
       "     'destination': '',\n",
       "     'departure': '',\n",
       "     'arriveBy': ''}},\n",
       "   'police': {'book': {'booked': []}, 'semi': {}},\n",
       "   'restaurant': {'book': {'booked': [{'name': 'sanu rrtsetaak',\n",
       "       'reference': 'Y2Y8QYBY'}],\n",
       "     'people': '6',\n",
       "     'day': 'sunday',\n",
       "     'time': '18:45'},\n",
       "    'semi': {'food': 'italian',\n",
       "     'pricerange': 'cheap',\n",
       "     'name': 'sanu rrtsetaak',\n",
       "     'area': 'centre'}},\n",
       "   'hospital': {'book': {'booked': []}, 'semi': {'department': ''}},\n",
       "   'hotel': {'book': {'booked': [{'name': 'abakradt xea esar dbnnedfle',\n",
       "       'reference': 'JXVKZ7KV'}],\n",
       "     'people': '6',\n",
       "     'day': 'sunday',\n",
       "     'stay': '4'},\n",
       "    'semi': {'name': 'not mentioned',\n",
       "     'area': 'not mentioned',\n",
       "     'parking': 'yes',\n",
       "     'pricerange': 'cheap',\n",
       "     'stars': 'not mentioned',\n",
       "     'internet': 'yes',\n",
       "     'type': 'guesthouse'}},\n",
       "   'attraction': {'book': {'booked': []},\n",
       "    'semi': {'type': '', 'name': '', 'area': ''}},\n",
       "   'train': {'book': {'booked': [], 'people': ''},\n",
       "    'semi': {'leaveAt': '',\n",
       "     'destination': '',\n",
       "     'day': '',\n",
       "     'arriveBy': '',\n",
       "     'departure': ''}}},\n",
       "  'dialog_act': {'general-bye': [['none', 'none']]},\n",
       "  'span_info': [],\n",
       "  'turn_id': 15}]"
      ]
     },
     "execution_count": 51,
     "metadata": {},
     "output_type": "execute_result"
    }
   ],
   "source": [
    "nei_test_data['MUL0003.json']['log']"
   ]
  },
  {
   "cell_type": "code",
   "execution_count": null,
   "metadata": {},
   "outputs": [],
   "source": [
    "import pandas as pd "
   ]
  },
  {
   "cell_type": "code",
   "execution_count": null,
   "metadata": {},
   "outputs": [],
   "source": [
    "df = pd.read_csv(\"/data/home/justincho/trippy-public-master/results/of_interest/multiwoz23_lr1e-4_2022-01-05_09:41:24_fewshot_False_46/pred_res.test.finalNEI.csv\")"
   ]
  },
  {
   "cell_type": "code",
   "execution_count": null,
   "metadata": {},
   "outputs": [],
   "source": [
    "NAMED_ENTITY_SLOTS_FOR_TRIPPY ={\n",
    "    \"attraction-name\",\n",
    "    \"restaurant-name\",\n",
    "    \"hotel-name\",\n",
    "    \"taxi-departure\",\n",
    "    \"taxi-destination\",\n",
    "    \"train-departure\",\n",
    "    \"train-destination\",\n",
    "}\n"
   ]
  },
  {
   "cell_type": "code",
   "execution_count": null,
   "metadata": {},
   "outputs": [],
   "source": [
    "from metric_bert_dst import load_dataset_config, tokenize, check_slot_inform"
   ]
  },
  {
   "cell_type": "code",
   "execution_count": null,
   "metadata": {},
   "outputs": [],
   "source": [
    "dataset_config = \"dataset_config/multiwoz21.json\"\n",
    "class_types, slots, label_maps = load_dataset_config(dataset_config)"
   ]
  },
  {
   "cell_type": "code",
   "execution_count": null,
   "metadata": {},
   "outputs": [],
   "source": [
    "from collections import Counter"
   ]
  },
  {
   "cell_type": "code",
   "execution_count": null,
   "metadata": {},
   "outputs": [
    {
     "name": "stdout",
     "output_type": "stream",
     "text": [
      "mul0011.json-2 \n",
      "\tpred: cafe \n",
      "\tgold: lcoafns wec\n",
      "mul0011.json-3 \n",
      "\tpred: cafe \n",
      "\tgold: lcoafns wec\n",
      "mul0011.json-4 \n",
      "\tpred: cafe \n",
      "\tgold: lcoafns wec\n",
      "mul0011.json-5 \n",
      "\tpred: cafe \n",
      "\tgold: lcoafns wec\n",
      "mul0011.json-6 \n",
      "\tpred: cafe \n",
      "\tgold: lcoafns wec\n",
      "mul0011.json-7 \n",
      "\tpred: cafe \n",
      "\tgold: lcoafns wec\n",
      "mul0011.json-8 \n",
      "\tpred: cafe \n",
      "\tgold: lcoafns wec\n",
      "mul0011.json-9 \n",
      "\tpred: cafe \n",
      "\tgold: lcoafns wec\n",
      "mul0011.json-10 \n",
      "\tpred: cafe \n",
      "\tgold: lcoafns wec\n",
      "mul0011.json-11 \n",
      "\tpred: cafe \n",
      "\tgold: lcoafns wec\n",
      "mul0011.json-11 \n",
      "\tpred: cafe \n",
      "\tgold: lcoafns wec\n",
      "mul0011.json-12 \n",
      "\tpred: cafe \n",
      "\tgold: lcoafns wec\n",
      "mul0011.json-12 \n",
      "\tpred: cafe \n",
      "\tgold: lcoafns wec\n",
      "mul0014.json-4 \n",
      "\tpred: lrhtaa ein \n",
      "\tgold: arianl\n",
      "mul0014.json-5 \n",
      "\tpred: lrhtaa ein \n",
      "\tgold: arianl\n",
      "mul0021.json-3 \n",
      "\tpred: the oehkc niaa t nzpicdrwza b [ SEP ] absolutely ! enlf etoilhhestd le is a [ UNK ] star hotel and their phone number is 01 223 355017 . is there anything else i can help you with ? [ SEP ] i ' d just need their star rating and phone number , thank you . enlf etoilhhestd le \n",
      "\tgold: oehkc niaa t nzpicdrwza b\n",
      "mul0021.json-4 \n",
      "\tpred: the oehkc niaa t nzpicdrwza b [ SEP ] absolutely ! enlf etoilhhestd le is a [ UNK ] star hotel and their phone number is 01 223 355017 . is there anything else i can help you with ? [ SEP ] i ' d just need their star rating and phone number , thank you . enlf etoilhhestd le \n",
      "\tgold: oehkc niaa t nzpicdrwza b\n",
      "mul0034.json-3 \n",
      "\tpred: alsnhotg \n",
      "\tgold: o wmyn t tctletoeoaen hrf\n",
      "mul0034.json-4 \n",
      "\tpred: alsnhotg \n",
      "\tgold: o wmyn t tctletoeoaen hrf\n",
      "mul0034.json-5 \n",
      "\tpred: alsnhotg \n",
      "\tgold: o wmyn t tctletoeoaen hrf\n",
      "mul0034.json-6 \n",
      "\tpred: alsnhotg \n",
      "\tgold: o wmyn t tctletoeoaen hrf\n",
      "mul0034.json-7 \n",
      "\tpred: alsnhotg \n",
      "\tgold: b enbyapeorsmdli r xisynhgae cdi\n",
      "mul0034.json-8 \n",
      "\tpred: alsnhotg \n",
      "\tgold: b enbyapeorsmdli r xisynhgae cdi\n",
      "mul0034.json-9 \n",
      "\tpred: alsnhotg \n",
      "\tgold: b enbyapeorsmdli r xisynhgae cdi\n",
      "mul0035.json-2 \n",
      "\tpred: the elefch ahamesocui \n",
      "\tgold: elefch ahamesocui\n",
      "mul0035.json-3 \n",
      "\tpred: the elefch ahamesocui \n",
      "\tgold: elefch ahamesocui\n",
      "mul0035.json-4 \n",
      "\tpred: the elefch ahamesocui \n",
      "\tgold: elefch ahamesocui\n",
      "mul0073.json-3 \n",
      "\tpred: levihtlgoneo l . \n",
      "\tgold: levihtlgoneo l\n",
      "mul0073.json-4 \n",
      "\tpred: levihtlgoneo l . \n",
      "\tgold: levihtlgoneo l\n",
      "mul0073.json-5 \n",
      "\tpred: levihtlgoneo l . \n",
      "\tgold: levihtlgoneo l\n",
      "mul0080.json-2 \n",
      "\tpred: octot restaurant \n",
      "\tgold: octot\n",
      "mul0088.json-4 \n",
      "\tpred: the oehkc niaa t nzpicdrwza b . \n",
      "\tgold: oehkc niaa t nzpicdrwza b\n",
      "mul0088.json-5 \n",
      "\tpred: the oehkc niaa t nzpicdrwza b . \n",
      "\tgold: oehkc niaa t nzpicdrwza b\n",
      "mul0088.json-6 \n",
      "\tpred: the oehkc niaa t nzpicdrwza b . \n",
      "\tgold: oehkc niaa t nzpicdrwza b\n",
      "mul0088.json-7 \n",
      "\tpred: niaa t nzpicdrwza b . \n",
      "\tgold: oehkc niaa t nzpicdrwza b\n",
      "mul0088.json-8 \n",
      "\tpred: niaa t nzpicdrwza b . \n",
      "\tgold: oehkc niaa t nzpicdrwza b\n",
      "mul0088.json-9 \n",
      "\tpred: niaa t nzpicdrwza b . \n",
      "\tgold: oehkc niaa t nzpicdrwza b\n",
      "mul0088.json-10 \n",
      "\tpred: niaa t nzpicdrwza b . \n",
      "\tgold: oehkc niaa t nzpicdrwza b\n",
      "mul0088.json-11 \n",
      "\tpred: niaa t nzpicdrwza b . \n",
      "\tgold: oehkc niaa t nzpicdrwza b\n",
      "mul0113.json-3 \n",
      "\tpred: cygrdrur ena \n",
      "\tgold: levihtlgoneo l\n",
      "mul0113.json-4 \n",
      "\tpred: cygrdrur ena \n",
      "\tgold: levihtlgoneo l\n",
      "mul0113.json-5 \n",
      "\tpred: cygrdrur ena \n",
      "\tgold: levihtlgoneo l\n",
      "mul0113.json-6 \n",
      "\tpred: cygrdrur ena \n",
      "\tgold: levihtlgoneo l\n",
      "mul0113.json-7 \n",
      "\tpred: cygrdrur ena \n",
      "\tgold: levihtlgoneo l\n",
      "mul0116.json-5 \n",
      "\tpred: ashley \n",
      "\tgold: shoeahltely\n",
      "mul0116.json-6 \n",
      "\tpred: ashley \n",
      "\tgold: le odlvlogel\n",
      "mul0116.json-7 \n",
      "\tpred: ashley \n",
      "\tgold: le odlvlogel\n",
      "mul0116.json-8 \n",
      "\tpred: ashley \n",
      "\tgold: shoeahltely\n",
      "mul0116.json-9 \n",
      "\tpred: ashley \n",
      "\tgold: shoeahltely\n",
      "mul0148.json-5 \n",
      "\tpred: huntingdon marriott \n",
      "\tgold: grmatoo nhinntr ultehtodi\n",
      "mul0148.json-6 \n",
      "\tpred: huntingdon marriott \n",
      "\tgold: grmatoo nhinntr ultehtodi\n",
      "mul0197.json-5 \n",
      "\tpred: gonville \n",
      "\tgold: levihtlgoneo l\n",
      "mul0197.json-6 \n",
      "\tpred: gonville \n",
      "\tgold: levihtlgoneo l\n",
      "mul0197.json-6 \n",
      "\tpred: gonville \n",
      "\tgold: levihtlgoneo l\n",
      "mul0197.json-7 \n",
      "\tpred: gonville \n",
      "\tgold: levihtlgoneo l\n",
      "mul0197.json-7 \n",
      "\tpred: gonville \n",
      "\tgold: levihtlgoneo l\n",
      "mul0197.json-8 \n",
      "\tpred: gonville \n",
      "\tgold: levihtlgoneo l\n",
      "mul0197.json-8 \n",
      "\tpred: gonville \n",
      "\tgold: levihtlgoneo l\n",
      "mul0208.json-7 \n",
      "\tpred: ogl ni ndronkcsoss \n",
      "\tgold: ro pvnsoetdntieleolrol\n",
      "mul0208.json-8 \n",
      "\tpred: ogl ni ndronkcsoss \n",
      "\tgold: ro pvnsoetdntieleolrol\n",
      "mul0208.json-9 \n",
      "\tpred: ogl ni ndronkcsoss \n",
      "\tgold: ro pvnsoetdntieleolrol\n",
      "mul0260.json-6 \n",
      "\tpred: varsity restaurant \n",
      "\tgold: tsuraiynsrr teaa tethv\n",
      "mul0260.json-7 \n",
      "\tpred: varsity restaurant \n",
      "\tgold: tsuraiynsrr teaa tethv\n",
      "mul0260.json-8 \n",
      "\tpred: varsity restaurant \n",
      "\tgold: tsuraiynsrr teaa tethv\n",
      "mul0297.json-3 \n",
      "\tpred: og \n",
      "\tgold: ogl ni ndronkcsoss\n",
      "mul0297.json-4 \n",
      "\tpred: og \n",
      "\tgold: ogl ni ndronkcsoss\n",
      "mul0297.json-5 \n",
      "\tpred: og \n",
      "\tgold: ogl ni ndronkcsoss\n",
      "mul0297.json-6 \n",
      "\tpred: og \n",
      "\tgold: ogl ni ndronkcsoss\n",
      "mul0297.json-7 \n",
      "\tpred: og \n",
      "\tgold: ogl ni ndronkcsoss\n",
      "mul0297.json-8 \n",
      "\tpred: og \n",
      "\tgold: ogl ni ndronkcsoss\n",
      "mul0306.json-1 \n",
      "\tpred: deirmgbca \n",
      "\tgold: nsolc g gkroisns\n",
      "mul0354.json-3 \n",
      "\tpred: akiznwtzechoic p please ? [ SEP ] the akiznwtzechoic p and bar \n",
      "\tgold: akiznwtzechoic p\n",
      "mul0354.json-4 \n",
      "\tpred: akiznwtzechoic p please ? [ SEP ] the akiznwtzechoic p and bar \n",
      "\tgold: akiznwtzechoic p\n",
      "mul0354.json-5 \n",
      "\tpred: akiznwtzechoic p please ? [ SEP ] the akiznwtzechoic p and bar \n",
      "\tgold: akiznwtzechoic p\n",
      "mul0354.json-6 \n",
      "\tpred: akiznwtzechoic p please ? [ SEP ] the akiznwtzechoic p and bar \n",
      "\tgold: akiznwtzechoic p\n",
      "mul0354.json-7 \n",
      "\tpred: akiznwtzechoic p please ? [ SEP ] the akiznwtzechoic p and bar \n",
      "\tgold: akiznwtzechoic p\n",
      "mul0397.json-3 \n",
      "\tpred: taaa cls restaurant \n",
      "\tgold: taaa cls\n",
      "mul0397.json-4 \n",
      "\tpred: taaa cls restaurant \n",
      "\tgold: taaa cls\n",
      "mul0397.json-5 \n",
      "\tpred: taaa cls restaurant \n",
      "\tgold: taaa cls\n",
      "mul0397.json-6 \n",
      "\tpred: taaa cls restaurant \n",
      "\tgold: taaa cls\n",
      "mul0397.json-7 \n",
      "\tpred: taaa cls restaurant \n",
      "\tgold: taaa cls\n",
      "mul0510.json-0 \n",
      "\tpred: ely \n",
      "\tgold: deirmgbca\n",
      "mul0510.json-1 \n",
      "\tpred: ely \n",
      "\tgold: deirmgbca\n",
      "mul0510.json-2 \n",
      "\tpred: ely \n",
      "\tgold: deirmgbca\n",
      "mul0510.json-3 \n",
      "\tpred: ely \n",
      "\tgold: deirmgbca\n",
      "mul0510.json-4 \n",
      "\tpred: ely \n",
      "\tgold: deirmgbca\n",
      "mul0510.json-5 \n",
      "\tpred: ely \n",
      "\tgold: deirmgbca\n",
      "mul0510.json-6 \n",
      "\tpred: ely \n",
      "\tgold: deirmgbca\n",
      "mul0510.json-7 \n",
      "\tpred: ely \n",
      "\tgold: deirmgbca\n",
      "mul0510.json-8 \n",
      "\tpred: ely \n",
      "\tgold: deirmgbca\n",
      "mul0510.json-9 \n",
      "\tpred: ely \n",
      "\tgold: deirmgbca\n",
      "mul0510.json-10 \n",
      "\tpred: ely \n",
      "\tgold: deirmgbca\n",
      "mul0575.json-3 \n",
      "\tpred: saint john ' s college \n",
      "\tgold: c ntjaoon igeeslhls\n",
      "mul0575.json-4 \n",
      "\tpred: saint john ' s college \n",
      "\tgold: c ntjaoon igeeslhls\n",
      "mul0594.json-3 \n",
      "\tpred: saint catharine ' s college \n",
      "\tgold: letgnoiresc itae snalhac\n",
      "mul0594.json-4 \n",
      "\tpred: saint catherine ' s college ? i want to be able to enter the address into my gps to get there . [ SEP ] absolutely . it is a [ UNK ] located in the [ UNK ] . it ' s free to enter and it is located on king ' s parade . [ SEP ] excellent . i ' m also looking for a particular attraction . it ' s called saint catharine ' s college \n",
      "\tgold: letgnoiresc itae snalhac\n",
      "mul0594.json-5 \n",
      "\tpred: saint catherine ' s college ? i want to be able to enter the address into my gps to get there . [ SEP ] absolutely . it is a [ UNK ] located in the [ UNK ] . it ' s free to enter and it is located on king ' s parade . [ SEP ] excellent . i ' m also looking for a particular attraction . it ' s called saint catharine ' s college \n",
      "\tgold: letgnoiresc itae snalhac\n",
      "mul0594.json-6 \n",
      "\tpred: saint catharine ' s \n",
      "\tgold: letgnoiresc itae snalhac\n",
      "mul0594.json-7 \n",
      "\tpred: saint catharine ' s \n",
      "\tgold: letgnoiresc itae snalhac\n",
      "mul0613.json-0 \n",
      "\tpred: rasuerhowhwt ok hotel \n",
      "\tgold: rasuerhowhwt ok\n"
     ]
    },
    {
     "data": {
      "text/plain": [
       "(0.04690338563170933, 6055, 2275, 71)"
      ]
     },
     "execution_count": 130,
     "metadata": {},
     "output_type": "execute_result"
    }
   ],
   "source": [
    "jgas = [] \n",
    "ne_jga =[]\n",
    "ct =0 \n",
    "false_pred_ct = 0 \n",
    "false_pred_dict= {} \n",
    "counter = Counter() \n",
    "print_ct =  0 \n",
    "for idx, row in df.iterrows(): \n",
    "    found_ne_slot = False\n",
    "    for ne_slot in NAMED_ENTITY_SLOTS_FOR_TRIPPY: \n",
    "        if row[f\"{ne_slot}_gold\"] != \"none\": \n",
    "            found_ne_slot = True \n",
    "            break\n",
    "\n",
    "    if found_ne_slot: \n",
    "        jga = int(all([row[f\"{slot}_gold\"] == row[f\"{slot}_pred\"] for slot in slots]))\n",
    "        jgas.append(jga)\n",
    "\n",
    "    for ne_slot in NAMED_ENTITY_SLOTS_FOR_TRIPPY: \n",
    "        # if row[f\"{ne_slot}_gold\"] != \"none\":\n",
    "        #     continue\n",
    "        # if row[f\"{ne_slot}_gold\"] == \"none\" and row[f\"{ne_slot}_pred\"] != \"none\": \n",
    "        #     # print(f\"{}\")\n",
    "        #     continue\n",
    "        if row[f\"{ne_slot}_gold\"] != \"none\" and row[f\"{ne_slot}_pred\"] == row[f\"{ne_slot}_gold\"] : \n",
    "            # print(row[f\"{ne_slot}_gold\"])\n",
    "            # print(row[f\"{ne_slot}_pred\"])\n",
    "            counter[row[f\"{ne_slot}_gold\"]] +=1 \n",
    "            ct += 1 \n",
    "        if row[f\"{ne_slot}_gold\"] != \"none\" and row[f\"{ne_slot}_pred\"] != \"none\" and row[f\"{ne_slot}_pred\"] != row[f\"{ne_slot}_gold\"] : \n",
    "            if print_ct < 100: \n",
    "                print(f\"{row['id']} \\n\\tpred: \" + row[f\"{ne_slot}_pred\"], \"\\n\\tgold: \" + row[f\"{ne_slot}_gold\"])\n",
    "                print_ct += 1 \n",
    "            \n",
    "        if row[f\"{ne_slot}_gold\"] == \"none\" and row[f\"{ne_slot}_pred\"] != \"none\": \n",
    "            false_pred_ct += 1 \n",
    "            # print()\n",
    "\n",
    "\n",
    "np.mean(jgas), len(jgas), ct, false_pred_ct  \n",
    "    # are there many casese where there were no named entities yet one was predicted for in the augmented set? "
   ]
  },
  {
   "cell_type": "code",
   "execution_count": null,
   "metadata": {},
   "outputs": [],
   "source": [
    "from pprint import pprint"
   ]
  },
  {
   "cell_type": "code",
   "execution_count": null,
   "metadata": {},
   "outputs": [],
   "source": [
    "def show_concise_metadata(metadata_dict): \n",
    "    concise = {} \n",
    "    for domain, slots in metadata_dict.items(): \n",
    "        concise_domain = {} \n",
    "        for slot_type, slotkv in slots.items(): \n",
    "            concise_slotkv = {} \n",
    "            for k,v in slotkv.items(): \n",
    "                if v: \n",
    "                    concise_slotkv[k] = v \n",
    "            if concise_slotkv: \n",
    "                concise_domain[slot_type] = concise_slotkv \n",
    "        if concise_domain: \n",
    "            concise[domain] = concise_domain \n",
    "    if concise: \n",
    "        return concise "
   ]
  },
  {
   "cell_type": "code",
   "execution_count": null,
   "metadata": {},
   "outputs": [
    {
     "name": "stdout",
     "output_type": "stream",
     "text": [
      "hello , i need to book a ticket going to reamcgbdi arriving by 16:30 , can you help me with that ?\n",
      "there are a lot of trains available . where are you departing from ?\n",
      "{'train': {'semi': {'arriveBy': '16:30',\n",
      "                    'day': 'not mentioned',\n",
      "                    'departure': 'not mentioned',\n",
      "                    'destination': 'reamcgbdi',\n",
      "                    'leaveAt': 'not mentioned'}}}\n",
      "i 'm departing from norurobbex on friday .\n",
      "tr2145 looks like it will get you there with plenty of time to spare .\n",
      "{'train': {'semi': {'arriveBy': '16:30',\n",
      "                    'day': 'friday',\n",
      "                    'departure': 'norurobbex',\n",
      "                    'destination': 'reamcgbdi',\n",
      "                    'leaveAt': 'not mentioned'}}}\n",
      "thanks , could you let me know the departure and arrival time ?\n",
      "of course . it was actually the tr2144 , my apologies about that .. it leaves at 14:32 and gets you there at about 15:32 . it costs 17.90 pounds .\n",
      "{'train': {'semi': {'arriveBy': '16:30',\n",
      "                    'day': 'friday',\n",
      "                    'departure': 'norurobbex',\n",
      "                    'destination': 'reamcgbdi',\n",
      "                    'leaveAt': 'not mentioned'}}}\n",
      "excellent . i 'm also looking for a particular attraction . it 's called saint catharine 's college . any information ?\n",
      "absolutely . it is a college located in the centre . it 's free to enter and it is located on king 's parade .\n",
      "{'attraction': {'semi': {'area': 'not mentioned',\n",
      "                         'name': 'altsnit acail scoheegner',\n",
      "                         'type': 'not mentioned'}},\n",
      " 'train': {'semi': {'arriveBy': '16:30',\n",
      "                    'day': 'friday',\n",
      "                    'departure': 'norurobbex',\n",
      "                    'destination': 'reamcgbdi',\n",
      "                    'leaveAt': 'not mentioned'}}}\n",
      "what is the postcode for saint catherine 's college ? i want to be able to enter the address into my gps to get there .\n",
      "saint catharine 's college is located at king 's parade postcode cb21rl . it is free to get in . do you also need their phone number ?\n",
      "{'attraction': {'semi': {'area': 'not mentioned',\n",
      "                         'name': 'altsnit acail scoheegner',\n",
      "                         'type': 'not mentioned'}},\n",
      " 'train': {'semi': {'arriveBy': '16:30',\n",
      "                    'day': 'friday',\n",
      "                    'departure': 'norurobbex',\n",
      "                    'destination': 'reamcgbdi',\n",
      "                    'leaveAt': 'not mentioned'}}}\n",
      "no thanks , that 's everything i need .\n",
      "are you certain you do n't need further assistance ?\n",
      "{'attraction': {'semi': {'area': 'not mentioned',\n",
      "                         'name': 'altsnit acail scoheegner',\n",
      "                         'type': 'not mentioned'}},\n",
      " 'train': {'semi': {'arriveBy': '16:30',\n",
      "                    'day': 'friday',\n",
      "                    'departure': 'norurobbex',\n",
      "                    'destination': 'reamcgbdi',\n",
      "                    'leaveAt': 'not mentioned'}}}\n",
      "could you just confirm the entrance fee , attraction type , and postcode for saint catharine 's ?\n",
      "the entrance fee for the college is 0 . it 's free . and the postcode is cb21rl .\n",
      "{'attraction': {'semi': {'area': 'not mentioned',\n",
      "                         'name': 'altsnit acail scoheegner',\n",
      "                         'type': 'not mentioned'}},\n",
      " 'train': {'semi': {'arriveBy': '16:30',\n",
      "                    'day': 'friday',\n",
      "                    'departure': 'norurobbex',\n",
      "                    'destination': 'reamcgbdi',\n",
      "                    'leaveAt': 'not mentioned'}}}\n",
      "thank you so much for all your help . that is all i needed for now .\n",
      "you 're very welcome . have a great day ! goodbye !\n",
      "{'attraction': {'semi': {'area': 'not mentioned',\n",
      "                         'name': 'altsnit acail scoheegner',\n",
      "                         'type': 'not mentioned'}},\n",
      " 'train': {'semi': {'arriveBy': '16:30',\n",
      "                    'day': 'friday',\n",
      "                    'departure': 'norurobbex',\n",
      "                    'destination': 'reamcgbdi',\n",
      "                    'leaveAt': 'not mentioned'}}}\n"
     ]
    }
   ],
   "source": [
    "for t in nei_test_data[\"MUL0594.json\"][\"log\"]: \n",
    "    print(t[\"text\"])\n",
    "    # pprint(t[\"metadata\"])\n",
    "    if t[\"metadata\"]: \n",
    "        pprint(show_concise_metadata(t[\"metadata\"]))"
   ]
  },
  {
   "cell_type": "code",
   "execution_count": null,
   "metadata": {},
   "outputs": [],
   "source": []
  }
 ],
 "metadata": {
  "interpreter": {
   "hash": "9c565cfbc7cce0adff0dfd96ef86c8b0d4bbe117dea75197b93939f3141c5402"
  },
  "kernelspec": {
   "display_name": "Python 3.8.12 64-bit ('trippy': conda)",
   "language": "python",
   "name": "python3"
  },
  "language_info": {
   "codemirror_mode": {
    "name": "ipython",
    "version": 3
   },
   "file_extension": ".py",
   "mimetype": "text/x-python",
   "name": "python",
   "nbconvert_exporter": "python",
   "pygments_lexer": "ipython3",
   "version": "3.7.12"
  },
  "orig_nbformat": 4
 },
 "nbformat": 4,
 "nbformat_minor": 2
}
